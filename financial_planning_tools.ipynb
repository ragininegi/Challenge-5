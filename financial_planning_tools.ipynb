{
 "cells": [
  {
   "cell_type": "markdown",
   "metadata": {},
   "source": [
    "# Financial Planning with APIs and Simulations\n",
    "\n",
    "In this Challenge, you’ll create two financial analysis tools by using a single Jupyter notebook:\n",
    "\n",
    "Part 1: A financial planner for emergencies. The members will be able to use this tool to visualize their current savings. The members can then determine if they have enough reserves for an emergency fund.\n",
    "\n",
    "Part 2: A financial planner for retirement. This tool will forecast the performance of their retirement portfolio in 30 years. To do this, the tool will make an Alpaca API call via the Alpaca SDK to get historical price data for use in Monte Carlo simulations.\n",
    "\n",
    "You’ll use the information from the Monte Carlo simulation to answer questions about the portfolio in your Jupyter notebook.\n",
    "\n"
   ]
  },
  {
   "cell_type": "code",
   "execution_count": 1,
   "metadata": {},
   "outputs": [],
   "source": [
    "# Import the required libraries and dependencies\n",
    "import os\n",
    "import requests\n",
    "import json\n",
    "import pandas as pd\n",
    "from dotenv import load_dotenv\n",
    "import alpaca_trade_api as tradeapi\n",
    "from MCForecastTools import MCSimulation\n",
    "\n",
    "%matplotlib inline"
   ]
  },
  {
   "cell_type": "code",
   "execution_count": 2,
   "metadata": {},
   "outputs": [
    {
     "data": {
      "text/plain": [
       "True"
      ]
     },
     "execution_count": 2,
     "metadata": {},
     "output_type": "execute_result"
    }
   ],
   "source": [
    "# Load the environment variables from the .env file\n",
    "#by calling the load_dotenv function\n",
    "load_dotenv()"
   ]
  },
  {
   "cell_type": "markdown",
   "metadata": {},
   "source": [
    "## Part 1: Create a Financial Planner for Emergencies"
   ]
  },
  {
   "cell_type": "markdown",
   "metadata": {},
   "source": [
    "### Evaluate the Cryptocurrency Wallet by Using the Requests Library\n",
    "\n",
    "In this section, you’ll determine the current value of a member’s cryptocurrency wallet. You’ll collect the current prices for the Bitcoin and Ethereum cryptocurrencies by using the Python Requests library. For the prototype, you’ll assume that the member holds the 1.2 Bitcoins (BTC) and 5.3 Ethereum coins (ETH). To do all this, complete the following steps:\n",
    "\n",
    "1. Create a variable named `monthly_income`, and set its value to `12000`.\n",
    "\n",
    "2. Use the Requests library to get the current price (in US dollars) of Bitcoin (BTC) and Ethereum (ETH) by using the API endpoints that the starter code supplies.\n",
    "\n",
    "3. Navigate the JSON response object to access the current price of each coin, and store each in a variable.\n",
    "\n",
    "    > **Hint** Note the specific identifier for each cryptocurrency in the API JSON response. The Bitcoin identifier is `1`, and the Ethereum identifier is `1027`.\n",
    "\n",
    "4. Calculate the value, in US dollars, of the current amount of each cryptocurrency and of the entire cryptocurrency wallet.\n",
    "\n"
   ]
  },
  {
   "cell_type": "code",
   "execution_count": 3,
   "metadata": {},
   "outputs": [],
   "source": [
    "# The current number of coins for each cryptocurrency asset held in the portfolio.\n",
    "btc_coins = 1.2\n",
    "eth_coins = 5.3"
   ]
  },
  {
   "cell_type": "markdown",
   "metadata": {},
   "source": [
    "#### Step 1: Create a variable named `monthly_income`, and set its value to `12000`."
   ]
  },
  {
   "cell_type": "code",
   "execution_count": 4,
   "metadata": {},
   "outputs": [],
   "source": [
    "# The monthly amount for the member's household income\n",
    "monthly_income = 12000\n"
   ]
  },
  {
   "cell_type": "markdown",
   "metadata": {},
   "source": [
    "#### Review the endpoint URLs for the API calls to Free Crypto API in order to get the current pricing information for both BTC and ETH."
   ]
  },
  {
   "cell_type": "code",
   "execution_count": 5,
   "metadata": {},
   "outputs": [],
   "source": [
    "# The Free Crypto API Call endpoint URLs for the held cryptocurrency assets\n",
    "btc_url = \"https://api.alternative.me/v2/ticker/Bitcoin/?convert=USD\"\n",
    "eth_url = \"https://api.alternative.me/v2/ticker/Ethereum/?convert=USD\""
   ]
  },
  {
   "cell_type": "markdown",
   "metadata": {},
   "source": [
    "#### Step 2. Use the Requests library to get the current price (in US dollars) of Bitcoin (BTC) and Ethereum (ETH) by using the API endpoints that the starter code supplied."
   ]
  },
  {
   "cell_type": "code",
   "execution_count": 6,
   "metadata": {},
   "outputs": [
    {
     "name": "stdout",
     "output_type": "stream",
     "text": [
      "{\n",
      "    \"data\": {\n",
      "        \"1\": {\n",
      "            \"circulating_supply\": 19081856,\n",
      "            \"id\": 1,\n",
      "            \"last_updated\": 1656639822,\n",
      "            \"max_supply\": 21000000,\n",
      "            \"name\": \"Bitcoin\",\n",
      "            \"quotes\": {\n",
      "                \"USD\": {\n",
      "                    \"market_cap\": 387724790773,\n",
      "                    \"percent_change_1h\": -0.211019631403568,\n",
      "                    \"percent_change_24h\": 1.81194965106901,\n",
      "                    \"percent_change_7d\": -3.31057772482022,\n",
      "                    \"percentage_change_1h\": -0.211019631403568,\n",
      "                    \"percentage_change_24h\": 1.81194965106901,\n",
      "                    \"percentage_change_7d\": -3.31057772482022,\n",
      "                    \"price\": 20402.0,\n",
      "                    \"volume_24h\": 26386139374\n",
      "                }\n",
      "            },\n",
      "            \"rank\": 1,\n",
      "            \"symbol\": \"BTC\",\n",
      "            \"total_supply\": 19081856,\n",
      "            \"website_slug\": \"bitcoin\"\n",
      "        }\n",
      "    },\n",
      "    \"metadata\": {\n",
      "        \"error\": null,\n",
      "        \"num_cryptocurrencies\": 3116,\n",
      "        \"timestamp\": 1656639822\n",
      "    }\n",
      "}\n"
     ]
    }
   ],
   "source": [
    "# Using the Python requests library, make an API call to access the current price of BTC\n",
    "btc_response = requests.get(btc_url).json()\n",
    "\n",
    "# Use the json.dumps function to review the response data from the API call\n",
    "# Use the indent and sort_keys parameters to make the response object readable\n",
    "print(json.dumps(btc_response, indent=4, sort_keys=True))\n"
   ]
  },
  {
   "cell_type": "code",
   "execution_count": 7,
   "metadata": {},
   "outputs": [
    {
     "name": "stdout",
     "output_type": "stream",
     "text": [
      "{\n",
      "    \"data\": {\n",
      "        \"1027\": {\n",
      "            \"circulating_supply\": 119504225,\n",
      "            \"id\": 1027,\n",
      "            \"last_updated\": 1656639857,\n",
      "            \"max_supply\": 0,\n",
      "            \"name\": \"Ethereum\",\n",
      "            \"quotes\": {\n",
      "                \"USD\": {\n",
      "                    \"market_cap\": 130070980473,\n",
      "                    \"percent_change_1h\": -0.0352434324190414,\n",
      "                    \"percent_change_24h\": 0.678017696316334,\n",
      "                    \"percent_change_7d\": -4.40983591105294,\n",
      "                    \"percentage_change_1h\": -0.0352434324190414,\n",
      "                    \"percentage_change_24h\": 0.678017696316334,\n",
      "                    \"percentage_change_7d\": -4.40983591105294,\n",
      "                    \"price\": 1094.01,\n",
      "                    \"volume_24h\": 17716144359\n",
      "                }\n",
      "            },\n",
      "            \"rank\": 2,\n",
      "            \"symbol\": \"ETH\",\n",
      "            \"total_supply\": 119504225,\n",
      "            \"website_slug\": \"ethereum\"\n",
      "        }\n",
      "    },\n",
      "    \"metadata\": {\n",
      "        \"error\": null,\n",
      "        \"num_cryptocurrencies\": 3116,\n",
      "        \"timestamp\": 1656639857\n",
      "    }\n",
      "}\n"
     ]
    }
   ],
   "source": [
    "# Using the Python requests library, make an API call to access the current price ETH\n",
    "eth_response = requests.get(eth_url).json()\n",
    "\n",
    "# Use the json.dumps function to review the response data from the API call\n",
    "# Use the indent and sort_keys parameters to make the response object readable\n",
    "print(json.dumps(eth_response, indent=4, sort_keys=True))\n",
    "\n"
   ]
  },
  {
   "cell_type": "markdown",
   "metadata": {},
   "source": [
    "#### Step 3: Navigate the JSON response object to access the current price of each coin, and store each in a variable."
   ]
  },
  {
   "cell_type": "code",
   "execution_count": 8,
   "metadata": {},
   "outputs": [
    {
     "name": "stdout",
     "output_type": "stream",
     "text": [
      "BTC Current Price: $20,402.00\n"
     ]
    }
   ],
   "source": [
    "# Navigate the BTC response object to access the current price of BTC\n",
    "btc_price = btc_response['data']['1']['quotes']['USD']['price']\n",
    "\n",
    "# Print the current price of BTC\n",
    "print(f\"BTC Current Price: ${btc_price:,.2f}\")\n"
   ]
  },
  {
   "cell_type": "code",
   "execution_count": 9,
   "metadata": {},
   "outputs": [
    {
     "name": "stdout",
     "output_type": "stream",
     "text": [
      "ETH Current Price: $1,094.01\n"
     ]
    }
   ],
   "source": [
    "# Navigate the BTC response object to access the current price of ETH\n",
    "eth_price = eth_response['data']['1027']['quotes']['USD']['price']\n",
    "\n",
    "# Print the current price of ETH\n",
    "print(f\"ETH Current Price: ${eth_price:,.2f}\")\n"
   ]
  },
  {
   "cell_type": "markdown",
   "metadata": {},
   "source": [
    "### Step 4: Calculate the value, in US dollars, of the current amount of each cryptocurrency and of the entire cryptocurrency wallet."
   ]
  },
  {
   "cell_type": "code",
   "execution_count": 10,
   "metadata": {},
   "outputs": [
    {
     "name": "stdout",
     "output_type": "stream",
     "text": [
      "Current BTC Holding: $24,482.40\n"
     ]
    }
   ],
   "source": [
    "# Compute the current value of the BTC holding \n",
    "btc_value = btc_coins * btc_price\n",
    "\n",
    "# Print current value of your holding in BTC\n",
    "print(f\"Current BTC Holding: ${btc_value:,.2f}\")\n"
   ]
  },
  {
   "cell_type": "code",
   "execution_count": 11,
   "metadata": {},
   "outputs": [
    {
     "name": "stdout",
     "output_type": "stream",
     "text": [
      "Current ETH Holding: $5,798.25\n"
     ]
    }
   ],
   "source": [
    "# Compute the current value of the ETH holding \n",
    "eth_value = eth_coins * eth_price\n",
    "\n",
    "# Print current value of your holding in ETH\n",
    "print(f\"Current ETH Holding: ${eth_value:,.2f}\")\n"
   ]
  },
  {
   "cell_type": "code",
   "execution_count": 12,
   "metadata": {},
   "outputs": [
    {
     "name": "stdout",
     "output_type": "stream",
     "text": [
      "Cryptocurrency Wallet Balance: $30,280.65\n"
     ]
    }
   ],
   "source": [
    "# Compute the total value of the cryptocurrency wallet\n",
    "# Add the value of the BTC holding to the value of the ETH holding\n",
    "total_crypto_wallet = btc_value + eth_value\n",
    "\n",
    "# Print current cryptocurrency wallet balance\n",
    "print(f\"Cryptocurrency Wallet Balance: ${total_crypto_wallet:,.2f}\")\n"
   ]
  },
  {
   "cell_type": "markdown",
   "metadata": {},
   "source": [
    "### Evaluate the Stock and Bond Holdings by Using the Alpaca SDK\n",
    "\n",
    "In this section, you’ll determine the current value of a member’s stock and bond holdings. You’ll make an API call to Alpaca via the Alpaca SDK to get the current closing prices of the SPDR S&P 500 ETF Trust (ticker: SPY) and of the iShares Core US Aggregate Bond ETF (ticker: AGG). For the prototype, assume that the member holds 110 shares of SPY, which represents the stock portion of their portfolio, and 200 shares of AGG, which represents the bond portion. To do all this, complete the following steps:\n",
    "\n",
    "1. In the `Starter_Code` folder, create an environment file (`.env`) to store the values of your Alpaca API key and Alpaca secret key.\n",
    "\n",
    "2. Set the variables for the Alpaca API and secret keys. Using the Alpaca SDK, create the Alpaca `tradeapi.REST` object. In this object, include the parameters for the Alpaca API key, the secret key, and the version number.\n",
    "\n",
    "3. Set the following parameters for the Alpaca API call:\n",
    "\n",
    "    - `tickers`: Use the tickers for the member’s stock and bond holdings.\n",
    "\n",
    "    - `timeframe`: Use a time frame of one day.\n",
    "\n",
    "    - `start_date` and `end_date`: Use the same date for these parameters, and format them with the date of the previous weekday (or `2020-08-07`). This is because you want the one closing price for the most-recent trading day.\n",
    "\n",
    "4. Get the current closing prices for `SPY` and `AGG` by using the Alpaca `get_bars` function. Format the response as a Pandas DataFrame by including the `df` property at the end of the `get_bars` function.\n",
    "\n",
    "5. Navigating the Alpaca response DataFrame, select the `SPY` and `AGG` closing prices, and store them as variables.\n",
    "\n",
    "6. Calculate the value, in US dollars, of the current amount of shares in each of the stock and bond portions of the portfolio, and print the results.\n"
   ]
  },
  {
   "cell_type": "markdown",
   "metadata": {},
   "source": [
    "#### Review the total number of shares held in both (SPY) and (AGG)."
   ]
  },
  {
   "cell_type": "code",
   "execution_count": 13,
   "metadata": {},
   "outputs": [],
   "source": [
    "# Current amount of shares held in both the stock (SPY) and bond (AGG) portion of the portfolio.\n",
    "spy_shares = 110\n",
    "agg_shares = 200\n"
   ]
  },
  {
   "cell_type": "markdown",
   "metadata": {},
   "source": [
    "#### Step 1: In the `Starter_Code` folder, create an environment file (`.env`) to store the values of your Alpaca API key and Alpaca secret key."
   ]
  },
  {
   "cell_type": "markdown",
   "metadata": {},
   "source": [
    "#### Step 2: Set the variables for the Alpaca API and secret keys. Using the Alpaca SDK, create the Alpaca `tradeapi.REST` object. In this object, include the parameters for the Alpaca API key, the secret key, and the version number."
   ]
  },
  {
   "cell_type": "code",
   "execution_count": 14,
   "metadata": {},
   "outputs": [
    {
     "name": "stdout",
     "output_type": "stream",
     "text": [
      "Alpaca Key type: <class 'str'>\n",
      "Alpaca Secret Key type: <class 'str'>\n"
     ]
    }
   ],
   "source": [
    "# Set the variables for the Alpaca API and secret keys\n",
    "alpaca_api_key = os.getenv('ALPACA_API_KEY')\n",
    "alpaca_secret_key = os.getenv('ALPACA_SECRET_KEY')\n",
    "\n",
    "# Create the Alpaca tradeapi.REST object\n",
    "alpaca = tradeapi.REST(\n",
    "    alpaca_api_key,\n",
    "    alpaca_secret_key,\n",
    "    api_version='v2'\n",
    ")\n",
    "#prining keys\n",
    "print(f\"Alpaca Key type: {type(alpaca_api_key)}\")\n",
    "print(f\"Alpaca Secret Key type: {type(alpaca_secret_key)}\")\n"
   ]
  },
  {
   "cell_type": "markdown",
   "metadata": {},
   "source": [
    "#### Step 3: Set the following parameters for the Alpaca API call:\n",
    "\n",
    "- `tickers`: Use the tickers for the member’s stock and bond holdings.\n",
    "\n",
    "- `timeframe`: Use a time frame of one day.\n",
    "\n",
    "- `start_date` and `end_date`: Use the same date for these parameters, and format them with the date of the previous weekday (or `2020-08-07`). This is because you want the one closing price for the most-recent trading day.\n"
   ]
  },
  {
   "cell_type": "code",
   "execution_count": 15,
   "metadata": {},
   "outputs": [],
   "source": [
    "# Set the tickers for both the bond and stock portion of the portfolio\n",
    "tickers = ['SPY','AGG']\n",
    "\n",
    "# Set timeframe to 1Day\n",
    "timeframe = \"1D\"\n",
    "\n",
    "# Format current date as ISO format\n",
    "# Set both the start and end date at the date of your prior weekday \n",
    "# This will give you the closing price of the previous trading day\n",
    "# Alternatively you can use a start and end date of 2020-08-07\n",
    "start_date = pd.Timestamp(\"2021-12-31\", tz=\"America/New_York\").isoformat()\n",
    "end_date = pd.Timestamp(\"2021-12-31\", tz=\"America/New_York\").isoformat()\n"
   ]
  },
  {
   "cell_type": "markdown",
   "metadata": {},
   "source": [
    "#### Step 4: Get the current closing prices for `SPY` and `AGG` by using the Alpaca `get_bars` function. Format the response as a Pandas DataFrame by including the `df` property at the end of the `get_bars` function."
   ]
  },
  {
   "cell_type": "code",
   "execution_count": 16,
   "metadata": {},
   "outputs": [
    {
     "data": {
      "text/html": [
       "<div>\n",
       "<style scoped>\n",
       "    .dataframe tbody tr th:only-of-type {\n",
       "        vertical-align: middle;\n",
       "    }\n",
       "\n",
       "    .dataframe tbody tr th {\n",
       "        vertical-align: top;\n",
       "    }\n",
       "\n",
       "    .dataframe thead tr th {\n",
       "        text-align: left;\n",
       "    }\n",
       "\n",
       "    .dataframe thead tr:last-of-type th {\n",
       "        text-align: right;\n",
       "    }\n",
       "</style>\n",
       "<table border=\"1\" class=\"dataframe\">\n",
       "  <thead>\n",
       "    <tr>\n",
       "      <th></th>\n",
       "      <th colspan=\"7\" halign=\"left\">SPY</th>\n",
       "      <th colspan=\"7\" halign=\"left\">AGG</th>\n",
       "    </tr>\n",
       "    <tr>\n",
       "      <th></th>\n",
       "      <th>open</th>\n",
       "      <th>high</th>\n",
       "      <th>low</th>\n",
       "      <th>close</th>\n",
       "      <th>volume</th>\n",
       "      <th>trade_count</th>\n",
       "      <th>vwap</th>\n",
       "      <th>open</th>\n",
       "      <th>high</th>\n",
       "      <th>low</th>\n",
       "      <th>close</th>\n",
       "      <th>volume</th>\n",
       "      <th>trade_count</th>\n",
       "      <th>vwap</th>\n",
       "    </tr>\n",
       "    <tr>\n",
       "      <th>timestamp</th>\n",
       "      <th></th>\n",
       "      <th></th>\n",
       "      <th></th>\n",
       "      <th></th>\n",
       "      <th></th>\n",
       "      <th></th>\n",
       "      <th></th>\n",
       "      <th></th>\n",
       "      <th></th>\n",
       "      <th></th>\n",
       "      <th></th>\n",
       "      <th></th>\n",
       "      <th></th>\n",
       "      <th></th>\n",
       "    </tr>\n",
       "  </thead>\n",
       "  <tbody>\n",
       "    <tr>\n",
       "      <th>2021-12-31 05:00:00+00:00</th>\n",
       "      <td>475.62</td>\n",
       "      <td>476.86</td>\n",
       "      <td>474.67</td>\n",
       "      <td>474.96</td>\n",
       "      <td>67846292</td>\n",
       "      <td>435210</td>\n",
       "      <td>475.661939</td>\n",
       "      <td>114.15</td>\n",
       "      <td>114.31</td>\n",
       "      <td>114.06</td>\n",
       "      <td>114.08</td>\n",
       "      <td>7989516</td>\n",
       "      <td>17453</td>\n",
       "      <td>114.148781</td>\n",
       "    </tr>\n",
       "  </tbody>\n",
       "</table>\n",
       "</div>"
      ],
      "text/plain": [
       "                              SPY                                    \\\n",
       "                             open    high     low   close    volume   \n",
       "timestamp                                                             \n",
       "2021-12-31 05:00:00+00:00  475.62  476.86  474.67  474.96  67846292   \n",
       "\n",
       "                                                      AGG                  \\\n",
       "                          trade_count        vwap    open    high     low   \n",
       "timestamp                                                                   \n",
       "2021-12-31 05:00:00+00:00      435210  475.661939  114.15  114.31  114.06   \n",
       "\n",
       "                                                                    \n",
       "                            close   volume trade_count        vwap  \n",
       "timestamp                                                           \n",
       "2021-12-31 05:00:00+00:00  114.08  7989516       17453  114.148781  "
      ]
     },
     "execution_count": 16,
     "metadata": {},
     "output_type": "execute_result"
    }
   ],
   "source": [
    "# Use the Alpaca get_bars function to get current closing prices the portfolio\n",
    "# Be sure to set the `df` property after the function to format the response object as a DataFrame\n",
    "df_portfolio = alpaca.get_bars(\n",
    "    tickers,\n",
    "    timeframe,\n",
    "    start = start_date,\n",
    "    end = end_date\n",
    ").df\n",
    "\n",
    "# Reorganize the DataFrame\n",
    "# Separate ticker data\n",
    "SPY = df_portfolio[df_portfolio['symbol']=='SPY'].drop('symbol', axis=1)\n",
    "AGG = df_portfolio[df_portfolio['symbol']=='AGG'].drop('symbol', axis=1)\n",
    "\n",
    "# Concatenate the ticker DataFrames\n",
    "df_portfolio = pd.concat([SPY, AGG], axis=1, keys=[\"SPY\", \"AGG\"])\n",
    "\n",
    "# Review the first 5 rows of the Alpaca DataFrame\n",
    "df_portfolio.head()\n"
   ]
  },
  {
   "cell_type": "markdown",
   "metadata": {},
   "source": [
    "#### Step 5: Navigating the Alpaca response DataFrame, select the `SPY` and `AGG` closing prices, and store them as variables."
   ]
  },
  {
   "cell_type": "code",
   "execution_count": 17,
   "metadata": {},
   "outputs": [
    {
     "name": "stdout",
     "output_type": "stream",
     "text": [
      "AGG Closing Price for 2022-01-06: $114.08\n"
     ]
    }
   ],
   "source": [
    "# Access the closing price for AGG from the Alpaca DataFrame\n",
    "# Converting the value to a floating point number\n",
    "agg_close_price = float(df_portfolio['AGG']['close'])\n",
    "\n",
    "# Print the AGG closing price\n",
    "print(f\"AGG Closing Price for 2022-01-06: ${agg_close_price:,.2f}\")\n"
   ]
  },
  {
   "cell_type": "code",
   "execution_count": 18,
   "metadata": {},
   "outputs": [
    {
     "name": "stdout",
     "output_type": "stream",
     "text": [
      "SPY Closing Price for 2022-01-06: $474.96\n"
     ]
    }
   ],
   "source": [
    "# Access the closing price for SPY from the Alpaca DataFrame\n",
    "# Converting the value to a floating point number\n",
    "spy_close_price = float(df_portfolio['SPY']['close'])\n",
    "\n",
    "# Print the SPY closing price\n",
    "print(f\"SPY Closing Price for 2022-01-06: ${spy_close_price:,.2f}\")\n"
   ]
  },
  {
   "cell_type": "code",
   "execution_count": 19,
   "metadata": {},
   "outputs": [
    {
     "name": "stdout",
     "output_type": "stream",
     "text": [
      "Bond Portfolio Value: $22,816.00\n"
     ]
    }
   ],
   "source": [
    "# Calculate the current value of the bond portion of the portfolio\n",
    "agg_value = agg_close_price * agg_shares\n",
    "\n",
    "# Print the current value of the bond portfolio\n",
    "print(f\"Bond Portfolio Value: ${agg_value:,.2f}\")\n",
    "\n"
   ]
  },
  {
   "cell_type": "code",
   "execution_count": 20,
   "metadata": {},
   "outputs": [
    {
     "name": "stdout",
     "output_type": "stream",
     "text": [
      "Bond Portfolio Value: $22,816.00\n"
     ]
    }
   ],
   "source": [
    "# Calculate the current value of the bond portion of the portfolio\n",
    "agg_value = agg_close_price * agg_shares\n",
    "\n",
    "# Print the current value of the bond portfolio\n",
    "print(f\"Bond Portfolio Value: ${agg_value:,.2f}\")\n"
   ]
  },
  {
   "cell_type": "code",
   "execution_count": 21,
   "metadata": {},
   "outputs": [
    {
     "name": "stdout",
     "output_type": "stream",
     "text": [
      "Bond Portfolio Value: $52,245.60\n"
     ]
    }
   ],
   "source": [
    "# Calculate the current value of the stock portion of the portfolio\n",
    "spy_value = spy_close_price * spy_shares\n",
    "\n",
    "# Print the current value of the stock portfolio\n",
    "print(f\"Bond Portfolio Value: ${spy_value:,.2f}\")\n"
   ]
  },
  {
   "cell_type": "code",
   "execution_count": 22,
   "metadata": {},
   "outputs": [
    {
     "name": "stdout",
     "output_type": "stream",
     "text": [
      "Combined Stock & Bond Portfolio Value: $75,061.60\n"
     ]
    }
   ],
   "source": [
    "# Calculate the total value of the stock and bond portion of the portfolio\n",
    "total_stocks_bonds = agg_value + spy_value\n",
    "\n",
    "# Print the current balance of the stock and bond portion of the portfolio\n",
    "print(f\"Combined Stock & Bond Portfolio \"\n",
    "      f\"Value: ${total_stocks_bonds:,.2f}\")\n"
   ]
  },
  {
   "cell_type": "code",
   "execution_count": 23,
   "metadata": {},
   "outputs": [
    {
     "name": "stdout",
     "output_type": "stream",
     "text": [
      "Total Assets: $105,342.25\n"
     ]
    }
   ],
   "source": [
    "# Calculate the total value of the member's entire savings portfolio\n",
    "# Add the value of the cryptocurrency walled to the value of the total stocks and bonds\n",
    "total_portfolio = total_crypto_wallet + total_stocks_bonds\n",
    "\n",
    "# Print current cryptocurrency wallet balance\n",
    "print(f\"Total Assets: ${total_portfolio:,.2f}\")\n"
   ]
  },
  {
   "cell_type": "markdown",
   "metadata": {},
   "source": [
    "### Evaluate the Emergency Fund\n",
    "\n",
    "In this section, you’ll use the valuations for the cryptocurrency wallet and for the stock and bond portions of the portfolio to determine if the credit union member has enough savings to build an emergency fund into their financial plan. To do this, complete the following steps:\n",
    "\n",
    "1. Create a Python list named `savings_data` that has two elements. The first element contains the total value of the cryptocurrency wallet. The second element contains the total value of the stock and bond portions of the portfolio.\n",
    "\n",
    "2. Use the `savings_data` list to create a Pandas DataFrame named `savings_df`, and then display this DataFrame. The function to create the DataFrame should take the following three parameters:\n",
    "\n",
    "    - `savings_data`: Use the list that you just created.\n",
    "\n",
    "    - `columns`: Set this parameter equal to a Python list with a single value called `amount`.\n",
    "\n",
    "    - `index`: Set this parameter equal to a Python list with the values of `crypto` and `stock/bond`.\n",
    "\n",
    "3. Use the `savings_df` DataFrame to plot a pie chart that visualizes the composition of the member’s portfolio. The y-axis of the pie chart uses `amount`. Be sure to add a title.\n",
    "\n",
    "4. Using Python, determine if the current portfolio has enough to create an emergency fund as part of the member’s financial plan. Ideally, an emergency fund should equal to three times the member’s monthly income. To do this, implement the following steps:\n",
    "\n",
    "    1. Create a variable named `emergency_fund_value`, and set it equal to three times the value of the member’s `monthly_income` of $12000. (You set this earlier in Part 1).\n",
    "\n",
    "    2. Create a series of three if statements to determine if the member’s total portfolio is large enough to fund the emergency portfolio:\n",
    "\n",
    "        1. If the total portfolio value is greater than the emergency fund value, display a message congratulating the member for having enough money in this fund.\n",
    "\n",
    "        2. Else if the total portfolio value is equal to the emergency fund value, display a message congratulating the member on reaching this important financial goal.\n",
    "\n",
    "        3. Else the total portfolio is less than the emergency fund value, so display a message showing how many dollars away the member is from reaching the goal. (Subtract the total portfolio value from the emergency fund value.)\n"
   ]
  },
  {
   "cell_type": "markdown",
   "metadata": {},
   "source": [
    "#### Step 1: Create a Python list named `savings_data` that has two elements. The first element contains the total value of the cryptocurrency wallet. The second element contains the total value of the stock and bond portions of the portfolio."
   ]
  },
  {
   "cell_type": "code",
   "execution_count": 24,
   "metadata": {},
   "outputs": [
    {
     "data": {
      "text/plain": [
       "[30280.653, 75061.6]"
      ]
     },
     "execution_count": 24,
     "metadata": {},
     "output_type": "execute_result"
    }
   ],
   "source": [
    "# Consolidate financial assets data into a Python list\n",
    "savings_data = [total_crypto_wallet, total_stocks_bonds]\n",
    "\n",
    "# Review the Python list savings_data\n",
    "savings_data\n",
    "    "
   ]
  },
  {
   "cell_type": "markdown",
   "metadata": {},
   "source": [
    "#### Step 2: Use the `savings_data` list to create a Pandas DataFrame named `savings_df`, and then display this DataFrame. The function to create the DataFrame should take the following three parameters:\n",
    "\n",
    "- `savings_data`: Use the list that you just created.\n",
    "\n",
    "- `columns`: Set this parameter equal to a Python list with a single value called `amount`.\n",
    "\n",
    "- `index`: Set this parameter equal to a Python list with the values of `crypto` and `stock/bond`.\n"
   ]
  },
  {
   "cell_type": "code",
   "execution_count": 25,
   "metadata": {},
   "outputs": [
    {
     "data": {
      "text/html": [
       "<div>\n",
       "<style scoped>\n",
       "    .dataframe tbody tr th:only-of-type {\n",
       "        vertical-align: middle;\n",
       "    }\n",
       "\n",
       "    .dataframe tbody tr th {\n",
       "        vertical-align: top;\n",
       "    }\n",
       "\n",
       "    .dataframe thead th {\n",
       "        text-align: right;\n",
       "    }\n",
       "</style>\n",
       "<table border=\"1\" class=\"dataframe\">\n",
       "  <thead>\n",
       "    <tr style=\"text-align: right;\">\n",
       "      <th></th>\n",
       "      <th>amount</th>\n",
       "    </tr>\n",
       "  </thead>\n",
       "  <tbody>\n",
       "    <tr>\n",
       "      <th>crypto</th>\n",
       "      <td>30280.653</td>\n",
       "    </tr>\n",
       "    <tr>\n",
       "      <th>Stock/Bond</th>\n",
       "      <td>75061.600</td>\n",
       "    </tr>\n",
       "  </tbody>\n",
       "</table>\n",
       "</div>"
      ],
      "text/plain": [
       "               amount\n",
       "crypto      30280.653\n",
       "Stock/Bond  75061.600"
      ]
     },
     "execution_count": 25,
     "metadata": {},
     "output_type": "execute_result"
    }
   ],
   "source": [
    "# Create a Pandas DataFrame called savings_df \n",
    "savings_df = pd.DataFrame(\n",
    "    savings_data,\n",
    "    columns=['amount'],\n",
    "    index = ['crypto' , \"Stock/Bond\"]\n",
    ")\n",
    "\n",
    "# Display the savings_df DataFrame\n",
    "savings_df\n"
   ]
  },
  {
   "cell_type": "markdown",
   "metadata": {},
   "source": [
    "#### Step 3: Use the `savings_df` DataFrame to plot a pie chart that visualizes the composition of the member’s portfolio. The y-axis of the pie chart uses `amount`. Be sure to add a title."
   ]
  },
  {
   "cell_type": "code",
   "execution_count": 26,
   "metadata": {},
   "outputs": [
    {
     "data": {
      "image/png": "[encoded data removed]",
      "text/plain": [
       "<Figure size 576x864 with 1 Axes>"
      ]
     },
     "metadata": {},
     "output_type": "display_data"
    }
   ],
   "source": [
    "# Plot the total value of the member's portfolio (crypto and stock/bond) in a pie chart\n",
    "savings_df.plot.pie(\n",
    "    y=\"amount\",\n",
    "    figsize=(8,12),\n",
    "    title=\"Composition of Member's Portfolio\"\n",
    ");\n"
   ]
  },
  {
   "cell_type": "markdown",
   "metadata": {},
   "source": [
    "#### Step 4: Using Python, determine if the current portfolio has enough to create an emergency fund as part of the member’s financial plan. Ideally, an emergency fund should equal to three times the member’s monthly income. To do this, implement the following steps:\n",
    "\n",
    "Step 1. Create a variable named `emergency_fund_value`, and set it equal to three times the value of the member’s `monthly_income` of 12000. (You set this earlier in Part 1).\n",
    "\n",
    "Step 2. Create a series of three if statements to determine if the member’s total portfolio is large enough to fund the emergency portfolio:\n",
    "\n",
    "* If the total portfolio value is greater than the emergency fund value, display a message congratulating the member for having enough money in this fund.\n",
    "\n",
    "* Else if the total portfolio value is equal to the emergency fund value, display a message congratulating the member on reaching this important financial goal.\n",
    "\n",
    "* Else the total portfolio is less than the emergency fund value, so display a message showing how many dollars away the member is from reaching the goal. (Subtract the total portfolio value from the emergency fund value.)\n"
   ]
  },
  {
   "cell_type": "markdown",
   "metadata": {},
   "source": [
    "##### Step 4-1: Create a variable named `emergency_fund_value`, and set it equal to three times the value of the member’s `monthly_income` of 12000. (You set this earlier in Part 1)."
   ]
  },
  {
   "cell_type": "code",
   "execution_count": 27,
   "metadata": {},
   "outputs": [],
   "source": [
    "# Create a variable named emergency_fund_value\n",
    "emergency_fund_value = monthly_income * 3\n"
   ]
  },
  {
   "cell_type": "markdown",
   "metadata": {},
   "source": [
    "##### Step 4-2: Create a series of three if statements to determine if the member’s total portfolio is large enough to fund the emergency portfolio:\n",
    "\n",
    "* If the total portfolio value is greater than the emergency fund value, display a message congratulating the member for having enough money in this fund.\n",
    "\n",
    "* Else if the total portfolio value is equal to the emergency fund value, display a message congratulating the member on reaching this important financial goal.\n",
    "\n",
    "* Else the total portfolio is less than the emergency fund value, so display a message showing how many dollars away the member is from reaching the goal. (Subtract the total portfolio value from the emergency fund value.)"
   ]
  },
  {
   "cell_type": "code",
   "execution_count": 28,
   "metadata": {},
   "outputs": [
    {
     "name": "stdout",
     "output_type": "stream",
     "text": [
      "Congratulations, your portfolio is able to fund your emergency account.\n"
     ]
    }
   ],
   "source": [
    "# Evaluate the possibility of creating an emergency fund with 3 conditions:\n",
    "\n",
    "if total_portfolio > emergency_fund_value:\n",
    "    print(\"Congratulations, your portfolio is able to fund your emergency account.\")\n",
    "elif total_portfolio == emergency_fund_value:\n",
    "    print(\"Congratulations, your total portfolio equals the amount need to fund your emergency account.\")\n",
    "else:\n",
    "    shortfall = emergency_fund_value - total_portfolio\n",
    "    print(f\"You are $ {shortfall:,.2f} away from reaching your goal.\")\n",
    "\n"
   ]
  },
  {
   "cell_type": "markdown",
   "metadata": {},
   "source": [
    "## Part 2: Create a Financial Planner for Retirement"
   ]
  },
  {
   "cell_type": "markdown",
   "metadata": {},
   "source": [
    "### Create the Monte Carlo Simulation\n",
    "\n",
    "In this section, you’ll use the MCForecastTools library to create a Monte Carlo simulation for the member’s savings portfolio. To do this, complete the following steps:\n",
    "\n",
    "1. Make an API call via the Alpaca SDK to get 3 years of historical closing prices for a traditional 60/40 portfolio split: 60% stocks (SPY) and 40% bonds (AGG).\n",
    "\n",
    "2. Run a Monte Carlo simulation of 500 samples and 30 years for the 60/40 portfolio, and then plot the results.The following image shows the overlay line plot resulting from a simulation with these characteristics. However, because a random number generator is used to run each live Monte Carlo simulation, your image will differ slightly from this exact image:\n",
    "\n",
    "![A screenshot depicts the resulting plot.](Images/5-4-monte-carlo-line-plot.png)\n",
    "\n",
    "3. Plot the probability distribution of the Monte Carlo simulation. Plot the probability distribution of the Monte Carlo simulation. The following image shows the histogram plot resulting from a simulation with these characteristics. However, because a random number generator is used to run each live Monte Carlo simulation, your image will differ slightly from this exact image:\n",
    "\n",
    "![A screenshot depicts the histogram plot.](Images/5-4-monte-carlo-histogram.png)\n",
    "\n",
    "4. Generate the summary statistics for the Monte Carlo simulation.\n",
    "\n"
   ]
  },
  {
   "cell_type": "markdown",
   "metadata": {},
   "source": [
    "#### Step 1: Make an API call via the Alpaca SDK to get 3 years of historical closing prices for a traditional 60/40 portfolio split: 60% stocks (SPY) and 40% bonds (AGG)."
   ]
  },
  {
   "cell_type": "code",
   "execution_count": 29,
   "metadata": {},
   "outputs": [],
   "source": [
    "# Set start and end dates of 3 years back from your current date\n",
    "# Alternatively, you can use an end date of 2020-08-07 and work 3 years back from that date \n",
    "start_date = pd.Timestamp('2018-12-31', tz='America/New_York').isoformat()\n",
    "end_date = pd.Timestamp('2021-12-31', tz='America/New_York').isoformat()\n",
    "\n",
    "# Set number of rows to 1000 to retrieve the maximum amount of rows\n",
    "limit_rows = 1000"
   ]
  },
  {
   "cell_type": "code",
   "execution_count": 30,
   "metadata": {},
   "outputs": [
    {
     "data": {
      "text/html": [
       "<div>\n",
       "<style scoped>\n",
       "    .dataframe tbody tr th:only-of-type {\n",
       "        vertical-align: middle;\n",
       "    }\n",
       "\n",
       "    .dataframe tbody tr th {\n",
       "        vertical-align: top;\n",
       "    }\n",
       "\n",
       "    .dataframe thead tr th {\n",
       "        text-align: left;\n",
       "    }\n",
       "</style>\n",
       "<table border=\"1\" class=\"dataframe\">\n",
       "  <thead>\n",
       "    <tr>\n",
       "      <th></th>\n",
       "      <th colspan=\"7\" halign=\"left\">SPY</th>\n",
       "      <th colspan=\"7\" halign=\"left\">AGG</th>\n",
       "    </tr>\n",
       "    <tr>\n",
       "      <th></th>\n",
       "      <th>open</th>\n",
       "      <th>high</th>\n",
       "      <th>low</th>\n",
       "      <th>close</th>\n",
       "      <th>volume</th>\n",
       "      <th>trade_count</th>\n",
       "      <th>vwap</th>\n",
       "      <th>open</th>\n",
       "      <th>high</th>\n",
       "      <th>low</th>\n",
       "      <th>close</th>\n",
       "      <th>volume</th>\n",
       "      <th>trade_count</th>\n",
       "      <th>vwap</th>\n",
       "    </tr>\n",
       "  </thead>\n",
       "  <tbody>\n",
       "    <tr>\n",
       "      <th>2018-12-31</th>\n",
       "      <td>249.50</td>\n",
       "      <td>250.19</td>\n",
       "      <td>247.47</td>\n",
       "      <td>249.92</td>\n",
       "      <td>144520520.0</td>\n",
       "      <td>591029.0</td>\n",
       "      <td>249.142101</td>\n",
       "      <td>106.12</td>\n",
       "      <td>106.510</td>\n",
       "      <td>106.1100</td>\n",
       "      <td>106.49</td>\n",
       "      <td>9672039</td>\n",
       "      <td>27922</td>\n",
       "      <td>106.385025</td>\n",
       "    </tr>\n",
       "    <tr>\n",
       "      <th>2019-01-02</th>\n",
       "      <td>246.06</td>\n",
       "      <td>251.21</td>\n",
       "      <td>245.95</td>\n",
       "      <td>250.18</td>\n",
       "      <td>131471311.0</td>\n",
       "      <td>603608.0</td>\n",
       "      <td>249.117597</td>\n",
       "      <td>106.55</td>\n",
       "      <td>106.610</td>\n",
       "      <td>106.4701</td>\n",
       "      <td>106.57</td>\n",
       "      <td>11201567</td>\n",
       "      <td>27948</td>\n",
       "      <td>106.542414</td>\n",
       "    </tr>\n",
       "    <tr>\n",
       "      <th>2019-01-03</th>\n",
       "      <td>248.30</td>\n",
       "      <td>248.57</td>\n",
       "      <td>243.67</td>\n",
       "      <td>244.21</td>\n",
       "      <td>146803492.0</td>\n",
       "      <td>698037.0</td>\n",
       "      <td>245.630362</td>\n",
       "      <td>106.57</td>\n",
       "      <td>107.075</td>\n",
       "      <td>106.5700</td>\n",
       "      <td>107.01</td>\n",
       "      <td>6497397</td>\n",
       "      <td>20215</td>\n",
       "      <td>106.933776</td>\n",
       "    </tr>\n",
       "    <tr>\n",
       "      <th>2019-01-04</th>\n",
       "      <td>247.59</td>\n",
       "      <td>253.11</td>\n",
       "      <td>247.17</td>\n",
       "      <td>252.39</td>\n",
       "      <td>142920211.0</td>\n",
       "      <td>708777.0</td>\n",
       "      <td>250.455694</td>\n",
       "      <td>106.66</td>\n",
       "      <td>106.720</td>\n",
       "      <td>106.5500</td>\n",
       "      <td>106.69</td>\n",
       "      <td>8148986</td>\n",
       "      <td>19547</td>\n",
       "      <td>106.639485</td>\n",
       "    </tr>\n",
       "    <tr>\n",
       "      <th>2019-01-07</th>\n",
       "      <td>252.76</td>\n",
       "      <td>255.95</td>\n",
       "      <td>251.69</td>\n",
       "      <td>254.38</td>\n",
       "      <td>103705813.0</td>\n",
       "      <td>449998.0</td>\n",
       "      <td>254.069565</td>\n",
       "      <td>106.72</td>\n",
       "      <td>106.790</td>\n",
       "      <td>106.4600</td>\n",
       "      <td>106.51</td>\n",
       "      <td>7433691</td>\n",
       "      <td>23935</td>\n",
       "      <td>106.588915</td>\n",
       "    </tr>\n",
       "  </tbody>\n",
       "</table>\n",
       "</div>"
      ],
      "text/plain": [
       "               SPY                                                   \\\n",
       "              open    high     low   close       volume trade_count   \n",
       "2018-12-31  249.50  250.19  247.47  249.92  144520520.0    591029.0   \n",
       "2019-01-02  246.06  251.21  245.95  250.18  131471311.0    603608.0   \n",
       "2019-01-03  248.30  248.57  243.67  244.21  146803492.0    698037.0   \n",
       "2019-01-04  247.59  253.11  247.17  252.39  142920211.0    708777.0   \n",
       "2019-01-07  252.76  255.95  251.69  254.38  103705813.0    449998.0   \n",
       "\n",
       "                           AGG                                       \\\n",
       "                  vwap    open     high       low   close    volume   \n",
       "2018-12-31  249.142101  106.12  106.510  106.1100  106.49   9672039   \n",
       "2019-01-02  249.117597  106.55  106.610  106.4701  106.57  11201567   \n",
       "2019-01-03  245.630362  106.57  107.075  106.5700  107.01   6497397   \n",
       "2019-01-04  250.455694  106.66  106.720  106.5500  106.69   8148986   \n",
       "2019-01-07  254.069565  106.72  106.790  106.4600  106.51   7433691   \n",
       "\n",
       "                                    \n",
       "           trade_count        vwap  \n",
       "2018-12-31       27922  106.385025  \n",
       "2019-01-02       27948  106.542414  \n",
       "2019-01-03       20215  106.933776  \n",
       "2019-01-04       19547  106.639485  \n",
       "2019-01-07       23935  106.588915  "
      ]
     },
     "metadata": {},
     "output_type": "display_data"
    },
    {
     "data": {
      "text/html": [
       "<div>\n",
       "<style scoped>\n",
       "    .dataframe tbody tr th:only-of-type {\n",
       "        vertical-align: middle;\n",
       "    }\n",
       "\n",
       "    .dataframe tbody tr th {\n",
       "        vertical-align: top;\n",
       "    }\n",
       "\n",
       "    .dataframe thead tr th {\n",
       "        text-align: left;\n",
       "    }\n",
       "</style>\n",
       "<table border=\"1\" class=\"dataframe\">\n",
       "  <thead>\n",
       "    <tr>\n",
       "      <th></th>\n",
       "      <th colspan=\"7\" halign=\"left\">SPY</th>\n",
       "      <th colspan=\"7\" halign=\"left\">AGG</th>\n",
       "    </tr>\n",
       "    <tr>\n",
       "      <th></th>\n",
       "      <th>open</th>\n",
       "      <th>high</th>\n",
       "      <th>low</th>\n",
       "      <th>close</th>\n",
       "      <th>volume</th>\n",
       "      <th>trade_count</th>\n",
       "      <th>vwap</th>\n",
       "      <th>open</th>\n",
       "      <th>high</th>\n",
       "      <th>low</th>\n",
       "      <th>close</th>\n",
       "      <th>volume</th>\n",
       "      <th>trade_count</th>\n",
       "      <th>vwap</th>\n",
       "    </tr>\n",
       "  </thead>\n",
       "  <tbody>\n",
       "    <tr>\n",
       "      <th>2021-12-27</th>\n",
       "      <td>NaN</td>\n",
       "      <td>NaN</td>\n",
       "      <td>NaN</td>\n",
       "      <td>NaN</td>\n",
       "      <td>NaN</td>\n",
       "      <td>NaN</td>\n",
       "      <td>NaN</td>\n",
       "      <td>114.15</td>\n",
       "      <td>114.30</td>\n",
       "      <td>114.13</td>\n",
       "      <td>114.26</td>\n",
       "      <td>5436338</td>\n",
       "      <td>14793</td>\n",
       "      <td>114.244790</td>\n",
       "    </tr>\n",
       "    <tr>\n",
       "      <th>2021-12-28</th>\n",
       "      <td>NaN</td>\n",
       "      <td>NaN</td>\n",
       "      <td>NaN</td>\n",
       "      <td>NaN</td>\n",
       "      <td>NaN</td>\n",
       "      <td>NaN</td>\n",
       "      <td>NaN</td>\n",
       "      <td>114.43</td>\n",
       "      <td>114.45</td>\n",
       "      <td>114.17</td>\n",
       "      <td>114.21</td>\n",
       "      <td>5253785</td>\n",
       "      <td>15633</td>\n",
       "      <td>114.296552</td>\n",
       "    </tr>\n",
       "    <tr>\n",
       "      <th>2021-12-29</th>\n",
       "      <td>NaN</td>\n",
       "      <td>NaN</td>\n",
       "      <td>NaN</td>\n",
       "      <td>NaN</td>\n",
       "      <td>NaN</td>\n",
       "      <td>NaN</td>\n",
       "      <td>NaN</td>\n",
       "      <td>113.99</td>\n",
       "      <td>114.05</td>\n",
       "      <td>113.81</td>\n",
       "      <td>113.87</td>\n",
       "      <td>5929458</td>\n",
       "      <td>17375</td>\n",
       "      <td>113.917371</td>\n",
       "    </tr>\n",
       "    <tr>\n",
       "      <th>2021-12-30</th>\n",
       "      <td>NaN</td>\n",
       "      <td>NaN</td>\n",
       "      <td>NaN</td>\n",
       "      <td>NaN</td>\n",
       "      <td>NaN</td>\n",
       "      <td>NaN</td>\n",
       "      <td>NaN</td>\n",
       "      <td>113.99</td>\n",
       "      <td>114.13</td>\n",
       "      <td>113.83</td>\n",
       "      <td>114.12</td>\n",
       "      <td>5455434</td>\n",
       "      <td>15929</td>\n",
       "      <td>114.004984</td>\n",
       "    </tr>\n",
       "    <tr>\n",
       "      <th>2021-12-31</th>\n",
       "      <td>NaN</td>\n",
       "      <td>NaN</td>\n",
       "      <td>NaN</td>\n",
       "      <td>NaN</td>\n",
       "      <td>NaN</td>\n",
       "      <td>NaN</td>\n",
       "      <td>NaN</td>\n",
       "      <td>114.15</td>\n",
       "      <td>114.31</td>\n",
       "      <td>114.06</td>\n",
       "      <td>114.08</td>\n",
       "      <td>7989516</td>\n",
       "      <td>17453</td>\n",
       "      <td>114.148781</td>\n",
       "    </tr>\n",
       "  </tbody>\n",
       "</table>\n",
       "</div>"
      ],
      "text/plain": [
       "            SPY                                            AGG          \\\n",
       "           open high low close volume trade_count vwap    open    high   \n",
       "2021-12-27  NaN  NaN NaN   NaN    NaN         NaN  NaN  114.15  114.30   \n",
       "2021-12-28  NaN  NaN NaN   NaN    NaN         NaN  NaN  114.43  114.45   \n",
       "2021-12-29  NaN  NaN NaN   NaN    NaN         NaN  NaN  113.99  114.05   \n",
       "2021-12-30  NaN  NaN NaN   NaN    NaN         NaN  NaN  113.99  114.13   \n",
       "2021-12-31  NaN  NaN NaN   NaN    NaN         NaN  NaN  114.15  114.31   \n",
       "\n",
       "                                                             \n",
       "               low   close   volume trade_count        vwap  \n",
       "2021-12-27  114.13  114.26  5436338       14793  114.244790  \n",
       "2021-12-28  114.17  114.21  5253785       15633  114.296552  \n",
       "2021-12-29  113.81  113.87  5929458       17375  113.917371  \n",
       "2021-12-30  113.83  114.12  5455434       15929  114.004984  \n",
       "2021-12-31  114.06  114.08  7989516       17453  114.148781  "
      ]
     },
     "metadata": {},
     "output_type": "display_data"
    }
   ],
   "source": [
    "# Use the Alpaca get_bars function to make the API call to get the 3 years worth of pricing data\n",
    "# The tickers and timeframe parameters should have been set in Part 1 of this activity \n",
    "# The start and end dates should be updated with the information set above\n",
    "# Remember to add the df property to the end of the call so the response is returned as a DataFrame\n",
    "df_three_years = alpaca.get_bars(\n",
    "    tickers,\n",
    "    timeframe,\n",
    "    start=start_date,\n",
    "    end=end_date,\n",
    "    limit=1000\n",
    ").df\n",
    "\n",
    "# Setting the date element as index\n",
    "df_three_years.index = df_three_years.index.date\n",
    "\n",
    "\n",
    "SPY = df_three_years[df_three_years['symbol']=='SPY'].drop('symbol', axis=1)\n",
    "AGG = df_three_years[df_three_years['symbol']=='AGG'].drop('symbol', axis=1)\n",
    "\n",
    "# Concatenate the ticker DataFrames\n",
    "df_three_years = pd.concat([SPY, AGG], axis=1, keys=[\"SPY\", \"AGG\"])\n",
    "\n",
    "\n",
    "# Display both the first and last five rows of the DataFrame\n",
    "display(df_three_years.head())\n",
    "display(df_three_years.tail())\n"
   ]
  },
  {
   "cell_type": "code",
   "execution_count": 31,
   "metadata": {},
   "outputs": [],
   "source": [
    "df_three_years = df_three_years.dropna()"
   ]
  },
  {
   "cell_type": "markdown",
   "metadata": {},
   "source": [
    "#### Step 2: Run a Monte Carlo simulation of 500 samples and 30 years for the 60/40 portfolio, and then plot the results."
   ]
  },
  {
   "cell_type": "code",
   "execution_count": 32,
   "metadata": {},
   "outputs": [
    {
     "data": {
      "text/html": [
       "<div>\n",
       "<style scoped>\n",
       "    .dataframe tbody tr th:only-of-type {\n",
       "        vertical-align: middle;\n",
       "    }\n",
       "\n",
       "    .dataframe tbody tr th {\n",
       "        vertical-align: top;\n",
       "    }\n",
       "\n",
       "    .dataframe thead tr th {\n",
       "        text-align: left;\n",
       "    }\n",
       "</style>\n",
       "<table border=\"1\" class=\"dataframe\">\n",
       "  <thead>\n",
       "    <tr>\n",
       "      <th></th>\n",
       "      <th colspan=\"8\" halign=\"left\">SPY</th>\n",
       "      <th colspan=\"8\" halign=\"left\">AGG</th>\n",
       "    </tr>\n",
       "    <tr>\n",
       "      <th></th>\n",
       "      <th>open</th>\n",
       "      <th>high</th>\n",
       "      <th>low</th>\n",
       "      <th>close</th>\n",
       "      <th>volume</th>\n",
       "      <th>trade_count</th>\n",
       "      <th>vwap</th>\n",
       "      <th>daily_return</th>\n",
       "      <th>open</th>\n",
       "      <th>high</th>\n",
       "      <th>low</th>\n",
       "      <th>close</th>\n",
       "      <th>volume</th>\n",
       "      <th>trade_count</th>\n",
       "      <th>vwap</th>\n",
       "      <th>daily_return</th>\n",
       "    </tr>\n",
       "  </thead>\n",
       "  <tbody>\n",
       "    <tr>\n",
       "      <th>2018-12-31</th>\n",
       "      <td>249.50</td>\n",
       "      <td>250.19</td>\n",
       "      <td>247.47</td>\n",
       "      <td>249.92</td>\n",
       "      <td>144520520.0</td>\n",
       "      <td>591029.0</td>\n",
       "      <td>249.142101</td>\n",
       "      <td>NaN</td>\n",
       "      <td>106.12</td>\n",
       "      <td>106.510</td>\n",
       "      <td>106.1100</td>\n",
       "      <td>106.49</td>\n",
       "      <td>9672039</td>\n",
       "      <td>27922</td>\n",
       "      <td>106.385025</td>\n",
       "      <td>NaN</td>\n",
       "    </tr>\n",
       "    <tr>\n",
       "      <th>2019-01-02</th>\n",
       "      <td>246.06</td>\n",
       "      <td>251.21</td>\n",
       "      <td>245.95</td>\n",
       "      <td>250.18</td>\n",
       "      <td>131471311.0</td>\n",
       "      <td>603608.0</td>\n",
       "      <td>249.117597</td>\n",
       "      <td>0.001040</td>\n",
       "      <td>106.55</td>\n",
       "      <td>106.610</td>\n",
       "      <td>106.4701</td>\n",
       "      <td>106.57</td>\n",
       "      <td>11201567</td>\n",
       "      <td>27948</td>\n",
       "      <td>106.542414</td>\n",
       "      <td>0.000751</td>\n",
       "    </tr>\n",
       "    <tr>\n",
       "      <th>2019-01-03</th>\n",
       "      <td>248.30</td>\n",
       "      <td>248.57</td>\n",
       "      <td>243.67</td>\n",
       "      <td>244.21</td>\n",
       "      <td>146803492.0</td>\n",
       "      <td>698037.0</td>\n",
       "      <td>245.630362</td>\n",
       "      <td>-0.023863</td>\n",
       "      <td>106.57</td>\n",
       "      <td>107.075</td>\n",
       "      <td>106.5700</td>\n",
       "      <td>107.01</td>\n",
       "      <td>6497397</td>\n",
       "      <td>20215</td>\n",
       "      <td>106.933776</td>\n",
       "      <td>0.004129</td>\n",
       "    </tr>\n",
       "    <tr>\n",
       "      <th>2019-01-04</th>\n",
       "      <td>247.59</td>\n",
       "      <td>253.11</td>\n",
       "      <td>247.17</td>\n",
       "      <td>252.39</td>\n",
       "      <td>142920211.0</td>\n",
       "      <td>708777.0</td>\n",
       "      <td>250.455694</td>\n",
       "      <td>0.033496</td>\n",
       "      <td>106.66</td>\n",
       "      <td>106.720</td>\n",
       "      <td>106.5500</td>\n",
       "      <td>106.69</td>\n",
       "      <td>8148986</td>\n",
       "      <td>19547</td>\n",
       "      <td>106.639485</td>\n",
       "      <td>-0.002990</td>\n",
       "    </tr>\n",
       "    <tr>\n",
       "      <th>2019-01-07</th>\n",
       "      <td>252.76</td>\n",
       "      <td>255.95</td>\n",
       "      <td>251.69</td>\n",
       "      <td>254.38</td>\n",
       "      <td>103705813.0</td>\n",
       "      <td>449998.0</td>\n",
       "      <td>254.069565</td>\n",
       "      <td>0.007885</td>\n",
       "      <td>106.72</td>\n",
       "      <td>106.790</td>\n",
       "      <td>106.4600</td>\n",
       "      <td>106.51</td>\n",
       "      <td>7433691</td>\n",
       "      <td>23935</td>\n",
       "      <td>106.588915</td>\n",
       "      <td>-0.001687</td>\n",
       "    </tr>\n",
       "  </tbody>\n",
       "</table>\n",
       "</div>"
      ],
      "text/plain": [
       "               SPY                                                   \\\n",
       "              open    high     low   close       volume trade_count   \n",
       "2018-12-31  249.50  250.19  247.47  249.92  144520520.0    591029.0   \n",
       "2019-01-02  246.06  251.21  245.95  250.18  131471311.0    603608.0   \n",
       "2019-01-03  248.30  248.57  243.67  244.21  146803492.0    698037.0   \n",
       "2019-01-04  247.59  253.11  247.17  252.39  142920211.0    708777.0   \n",
       "2019-01-07  252.76  255.95  251.69  254.38  103705813.0    449998.0   \n",
       "\n",
       "                                        AGG                             \\\n",
       "                  vwap daily_return    open     high       low   close   \n",
       "2018-12-31  249.142101          NaN  106.12  106.510  106.1100  106.49   \n",
       "2019-01-02  249.117597     0.001040  106.55  106.610  106.4701  106.57   \n",
       "2019-01-03  245.630362    -0.023863  106.57  107.075  106.5700  107.01   \n",
       "2019-01-04  250.455694     0.033496  106.66  106.720  106.5500  106.69   \n",
       "2019-01-07  254.069565     0.007885  106.72  106.790  106.4600  106.51   \n",
       "\n",
       "                                                           \n",
       "              volume trade_count        vwap daily_return  \n",
       "2018-12-31   9672039       27922  106.385025          NaN  \n",
       "2019-01-02  11201567       27948  106.542414     0.000751  \n",
       "2019-01-03   6497397       20215  106.933776     0.004129  \n",
       "2019-01-04   8148986       19547  106.639485    -0.002990  \n",
       "2019-01-07   7433691       23935  106.588915    -0.001687  "
      ]
     },
     "execution_count": 32,
     "metadata": {},
     "output_type": "execute_result"
    }
   ],
   "source": [
    "# Configure the Monte Carlo simulation to forecast 30 years cumulative returns\n",
    "# The weights should be split 40% to AGG and 60% to SPY.\n",
    "# Run 500 samples.\n",
    "\n",
    "MCS_30 = MCSimulation(\n",
    "    portfolio_data = df_three_years,\n",
    "    weights = [.40, .60],\n",
    "    num_simulation = 500,\n",
    "    num_trading_days = 252 * 30\n",
    ")\n",
    "\n",
    "# Review the simulation input data\n",
    "MCS_30.portfolio_data.head()\n"
   ]
  },
  {
   "cell_type": "code",
   "execution_count": 33,
   "metadata": {},
   "outputs": [
    {
     "name": "stdout",
     "output_type": "stream",
     "text": [
      "Running Monte Carlo simulation number 0.\n",
      "Running Monte Carlo simulation number 10.\n",
      "Running Monte Carlo simulation number 20.\n",
      "Running Monte Carlo simulation number 30.\n",
      "Running Monte Carlo simulation number 40.\n",
      "Running Monte Carlo simulation number 50.\n",
      "Running Monte Carlo simulation number 60.\n",
      "Running Monte Carlo simulation number 70.\n",
      "Running Monte Carlo simulation number 80.\n",
      "Running Monte Carlo simulation number 90.\n",
      "Running Monte Carlo simulation number 100.\n"
     ]
    },
    {
     "name": "stderr",
     "output_type": "stream",
     "text": [
      "/Users/ragininegi/Desktop/Challenges/Challenge-5/Starter_Code/MCForecastTools.py:117: PerformanceWarning: DataFrame is highly fragmented.  This is usually the result of calling `frame.insert` many times, which has poor performance.  Consider joining all columns at once using pd.concat(axis=1) instead.  To get a de-fragmented frame, use `newframe = frame.copy()`\n",
      "  portfolio_cumulative_returns[n] = (1 + sim_df.fillna(0)).cumprod()\n"
     ]
    },
    {
     "name": "stdout",
     "output_type": "stream",
     "text": [
      "Running Monte Carlo simulation number 110.\n",
      "Running Monte Carlo simulation number 120.\n",
      "Running Monte Carlo simulation number 130.\n",
      "Running Monte Carlo simulation number 140.\n",
      "Running Monte Carlo simulation number 150.\n",
      "Running Monte Carlo simulation number 160.\n",
      "Running Monte Carlo simulation number 170.\n",
      "Running Monte Carlo simulation number 180.\n",
      "Running Monte Carlo simulation number 190.\n",
      "Running Monte Carlo simulation number 200.\n",
      "Running Monte Carlo simulation number 210.\n",
      "Running Monte Carlo simulation number 220.\n",
      "Running Monte Carlo simulation number 230.\n",
      "Running Monte Carlo simulation number 240.\n",
      "Running Monte Carlo simulation number 250.\n",
      "Running Monte Carlo simulation number 260.\n",
      "Running Monte Carlo simulation number 270.\n",
      "Running Monte Carlo simulation number 280.\n",
      "Running Monte Carlo simulation number 290.\n",
      "Running Monte Carlo simulation number 300.\n",
      "Running Monte Carlo simulation number 310.\n",
      "Running Monte Carlo simulation number 320.\n",
      "Running Monte Carlo simulation number 330.\n",
      "Running Monte Carlo simulation number 340.\n",
      "Running Monte Carlo simulation number 350.\n",
      "Running Monte Carlo simulation number 360.\n",
      "Running Monte Carlo simulation number 370.\n",
      "Running Monte Carlo simulation number 380.\n",
      "Running Monte Carlo simulation number 390.\n",
      "Running Monte Carlo simulation number 400.\n",
      "Running Monte Carlo simulation number 410.\n",
      "Running Monte Carlo simulation number 420.\n",
      "Running Monte Carlo simulation number 430.\n",
      "Running Monte Carlo simulation number 440.\n",
      "Running Monte Carlo simulation number 450.\n",
      "Running Monte Carlo simulation number 460.\n",
      "Running Monte Carlo simulation number 470.\n",
      "Running Monte Carlo simulation number 480.\n",
      "Running Monte Carlo simulation number 490.\n"
     ]
    },
    {
     "data": {
      "text/html": [
       "<div>\n",
       "<style scoped>\n",
       "    .dataframe tbody tr th:only-of-type {\n",
       "        vertical-align: middle;\n",
       "    }\n",
       "\n",
       "    .dataframe tbody tr th {\n",
       "        vertical-align: top;\n",
       "    }\n",
       "\n",
       "    .dataframe thead th {\n",
       "        text-align: right;\n",
       "    }\n",
       "</style>\n",
       "<table border=\"1\" class=\"dataframe\">\n",
       "  <thead>\n",
       "    <tr style=\"text-align: right;\">\n",
       "      <th></th>\n",
       "      <th>0</th>\n",
       "      <th>1</th>\n",
       "      <th>2</th>\n",
       "      <th>3</th>\n",
       "      <th>4</th>\n",
       "      <th>5</th>\n",
       "      <th>6</th>\n",
       "      <th>7</th>\n",
       "      <th>8</th>\n",
       "      <th>9</th>\n",
       "      <th>...</th>\n",
       "      <th>490</th>\n",
       "      <th>491</th>\n",
       "      <th>492</th>\n",
       "      <th>493</th>\n",
       "      <th>494</th>\n",
       "      <th>495</th>\n",
       "      <th>496</th>\n",
       "      <th>497</th>\n",
       "      <th>498</th>\n",
       "      <th>499</th>\n",
       "    </tr>\n",
       "  </thead>\n",
       "  <tbody>\n",
       "    <tr>\n",
       "      <th>0</th>\n",
       "      <td>1.000000</td>\n",
       "      <td>1.000000</td>\n",
       "      <td>1.000000</td>\n",
       "      <td>1.000000</td>\n",
       "      <td>1.000000</td>\n",
       "      <td>1.000000</td>\n",
       "      <td>1.000000</td>\n",
       "      <td>1.000000</td>\n",
       "      <td>1.000000</td>\n",
       "      <td>1.000000</td>\n",
       "      <td>...</td>\n",
       "      <td>1.000000</td>\n",
       "      <td>1.000000</td>\n",
       "      <td>1.000000</td>\n",
       "      <td>1.000000</td>\n",
       "      <td>1.000000</td>\n",
       "      <td>1.000000</td>\n",
       "      <td>1.000000</td>\n",
       "      <td>1.000000</td>\n",
       "      <td>1.000000</td>\n",
       "      <td>1.000000</td>\n",
       "    </tr>\n",
       "    <tr>\n",
       "      <th>1</th>\n",
       "      <td>0.999920</td>\n",
       "      <td>0.998319</td>\n",
       "      <td>0.999403</td>\n",
       "      <td>1.000949</td>\n",
       "      <td>0.993539</td>\n",
       "      <td>1.003092</td>\n",
       "      <td>0.998815</td>\n",
       "      <td>1.001452</td>\n",
       "      <td>1.000304</td>\n",
       "      <td>0.998643</td>\n",
       "      <td>...</td>\n",
       "      <td>1.001275</td>\n",
       "      <td>0.992010</td>\n",
       "      <td>1.002410</td>\n",
       "      <td>0.999468</td>\n",
       "      <td>1.006253</td>\n",
       "      <td>0.998824</td>\n",
       "      <td>0.999357</td>\n",
       "      <td>1.002090</td>\n",
       "      <td>1.006529</td>\n",
       "      <td>0.998339</td>\n",
       "    </tr>\n",
       "    <tr>\n",
       "      <th>2</th>\n",
       "      <td>0.999509</td>\n",
       "      <td>0.994998</td>\n",
       "      <td>1.000142</td>\n",
       "      <td>1.004029</td>\n",
       "      <td>0.995250</td>\n",
       "      <td>1.003082</td>\n",
       "      <td>1.007111</td>\n",
       "      <td>1.000317</td>\n",
       "      <td>1.005295</td>\n",
       "      <td>0.998942</td>\n",
       "      <td>...</td>\n",
       "      <td>1.003339</td>\n",
       "      <td>0.995830</td>\n",
       "      <td>1.002677</td>\n",
       "      <td>1.000218</td>\n",
       "      <td>1.003564</td>\n",
       "      <td>0.999883</td>\n",
       "      <td>1.003121</td>\n",
       "      <td>1.005911</td>\n",
       "      <td>1.005896</td>\n",
       "      <td>0.990922</td>\n",
       "    </tr>\n",
       "    <tr>\n",
       "      <th>3</th>\n",
       "      <td>0.993825</td>\n",
       "      <td>0.999304</td>\n",
       "      <td>1.003986</td>\n",
       "      <td>1.006084</td>\n",
       "      <td>0.996403</td>\n",
       "      <td>0.999545</td>\n",
       "      <td>1.004302</td>\n",
       "      <td>1.003486</td>\n",
       "      <td>1.006976</td>\n",
       "      <td>1.005699</td>\n",
       "      <td>...</td>\n",
       "      <td>1.004505</td>\n",
       "      <td>0.996508</td>\n",
       "      <td>1.005891</td>\n",
       "      <td>1.004992</td>\n",
       "      <td>1.005391</td>\n",
       "      <td>0.996373</td>\n",
       "      <td>1.005205</td>\n",
       "      <td>1.008052</td>\n",
       "      <td>1.015544</td>\n",
       "      <td>0.992101</td>\n",
       "    </tr>\n",
       "    <tr>\n",
       "      <th>4</th>\n",
       "      <td>0.990056</td>\n",
       "      <td>0.999015</td>\n",
       "      <td>1.004456</td>\n",
       "      <td>1.007279</td>\n",
       "      <td>1.001638</td>\n",
       "      <td>1.008140</td>\n",
       "      <td>1.007096</td>\n",
       "      <td>1.006491</td>\n",
       "      <td>1.006824</td>\n",
       "      <td>1.001623</td>\n",
       "      <td>...</td>\n",
       "      <td>1.005063</td>\n",
       "      <td>1.000311</td>\n",
       "      <td>1.008312</td>\n",
       "      <td>1.004467</td>\n",
       "      <td>1.006924</td>\n",
       "      <td>0.996905</td>\n",
       "      <td>1.003530</td>\n",
       "      <td>1.010933</td>\n",
       "      <td>1.017692</td>\n",
       "      <td>0.991520</td>\n",
       "    </tr>\n",
       "    <tr>\n",
       "      <th>...</th>\n",
       "      <td>...</td>\n",
       "      <td>...</td>\n",
       "      <td>...</td>\n",
       "      <td>...</td>\n",
       "      <td>...</td>\n",
       "      <td>...</td>\n",
       "      <td>...</td>\n",
       "      <td>...</td>\n",
       "      <td>...</td>\n",
       "      <td>...</td>\n",
       "      <td>...</td>\n",
       "      <td>...</td>\n",
       "      <td>...</td>\n",
       "      <td>...</td>\n",
       "      <td>...</td>\n",
       "      <td>...</td>\n",
       "      <td>...</td>\n",
       "      <td>...</td>\n",
       "      <td>...</td>\n",
       "      <td>...</td>\n",
       "      <td>...</td>\n",
       "    </tr>\n",
       "    <tr>\n",
       "      <th>7556</th>\n",
       "      <td>43.951259</td>\n",
       "      <td>80.074141</td>\n",
       "      <td>92.219289</td>\n",
       "      <td>76.789923</td>\n",
       "      <td>65.131709</td>\n",
       "      <td>53.295104</td>\n",
       "      <td>119.702251</td>\n",
       "      <td>44.199550</td>\n",
       "      <td>49.119715</td>\n",
       "      <td>82.992595</td>\n",
       "      <td>...</td>\n",
       "      <td>52.934855</td>\n",
       "      <td>42.698685</td>\n",
       "      <td>58.890199</td>\n",
       "      <td>62.667766</td>\n",
       "      <td>88.937453</td>\n",
       "      <td>109.212879</td>\n",
       "      <td>119.111076</td>\n",
       "      <td>50.951880</td>\n",
       "      <td>47.144899</td>\n",
       "      <td>92.401782</td>\n",
       "    </tr>\n",
       "    <tr>\n",
       "      <th>7557</th>\n",
       "      <td>44.127124</td>\n",
       "      <td>80.076027</td>\n",
       "      <td>92.262595</td>\n",
       "      <td>76.852341</td>\n",
       "      <td>65.187841</td>\n",
       "      <td>53.162356</td>\n",
       "      <td>119.920469</td>\n",
       "      <td>44.253903</td>\n",
       "      <td>49.186419</td>\n",
       "      <td>82.852105</td>\n",
       "      <td>...</td>\n",
       "      <td>53.097049</td>\n",
       "      <td>42.722497</td>\n",
       "      <td>59.151778</td>\n",
       "      <td>62.453339</td>\n",
       "      <td>88.817202</td>\n",
       "      <td>109.148387</td>\n",
       "      <td>119.508942</td>\n",
       "      <td>51.084550</td>\n",
       "      <td>46.862553</td>\n",
       "      <td>92.184020</td>\n",
       "    </tr>\n",
       "    <tr>\n",
       "      <th>7558</th>\n",
       "      <td>43.919187</td>\n",
       "      <td>80.112158</td>\n",
       "      <td>91.897099</td>\n",
       "      <td>76.480889</td>\n",
       "      <td>65.547840</td>\n",
       "      <td>53.168996</td>\n",
       "      <td>119.428758</td>\n",
       "      <td>44.376147</td>\n",
       "      <td>49.029946</td>\n",
       "      <td>83.019523</td>\n",
       "      <td>...</td>\n",
       "      <td>52.797723</td>\n",
       "      <td>42.554917</td>\n",
       "      <td>58.781376</td>\n",
       "      <td>62.487395</td>\n",
       "      <td>88.148682</td>\n",
       "      <td>109.161220</td>\n",
       "      <td>118.813354</td>\n",
       "      <td>51.019427</td>\n",
       "      <td>46.562066</td>\n",
       "      <td>92.739457</td>\n",
       "    </tr>\n",
       "    <tr>\n",
       "      <th>7559</th>\n",
       "      <td>44.051240</td>\n",
       "      <td>79.564237</td>\n",
       "      <td>92.037805</td>\n",
       "      <td>76.486525</td>\n",
       "      <td>65.631352</td>\n",
       "      <td>53.416516</td>\n",
       "      <td>119.535194</td>\n",
       "      <td>44.270616</td>\n",
       "      <td>48.970541</td>\n",
       "      <td>83.157621</td>\n",
       "      <td>...</td>\n",
       "      <td>52.936398</td>\n",
       "      <td>42.506220</td>\n",
       "      <td>58.845419</td>\n",
       "      <td>62.168205</td>\n",
       "      <td>88.154986</td>\n",
       "      <td>108.910367</td>\n",
       "      <td>118.559391</td>\n",
       "      <td>51.268294</td>\n",
       "      <td>46.586635</td>\n",
       "      <td>93.023284</td>\n",
       "    </tr>\n",
       "    <tr>\n",
       "      <th>7560</th>\n",
       "      <td>44.023926</td>\n",
       "      <td>79.262640</td>\n",
       "      <td>92.264417</td>\n",
       "      <td>76.606482</td>\n",
       "      <td>65.750480</td>\n",
       "      <td>53.628873</td>\n",
       "      <td>119.437984</td>\n",
       "      <td>44.247485</td>\n",
       "      <td>48.811053</td>\n",
       "      <td>83.534631</td>\n",
       "      <td>...</td>\n",
       "      <td>53.126118</td>\n",
       "      <td>42.512950</td>\n",
       "      <td>58.661127</td>\n",
       "      <td>62.450982</td>\n",
       "      <td>88.544596</td>\n",
       "      <td>109.308939</td>\n",
       "      <td>118.620891</td>\n",
       "      <td>50.853920</td>\n",
       "      <td>46.771426</td>\n",
       "      <td>93.537216</td>\n",
       "    </tr>\n",
       "  </tbody>\n",
       "</table>\n",
       "<p>7561 rows × 500 columns</p>\n",
       "</div>"
      ],
      "text/plain": [
       "            0          1          2          3          4          5    \\\n",
       "0      1.000000   1.000000   1.000000   1.000000   1.000000   1.000000   \n",
       "1      0.999920   0.998319   0.999403   1.000949   0.993539   1.003092   \n",
       "2      0.999509   0.994998   1.000142   1.004029   0.995250   1.003082   \n",
       "3      0.993825   0.999304   1.003986   1.006084   0.996403   0.999545   \n",
       "4      0.990056   0.999015   1.004456   1.007279   1.001638   1.008140   \n",
       "...         ...        ...        ...        ...        ...        ...   \n",
       "7556  43.951259  80.074141  92.219289  76.789923  65.131709  53.295104   \n",
       "7557  44.127124  80.076027  92.262595  76.852341  65.187841  53.162356   \n",
       "7558  43.919187  80.112158  91.897099  76.480889  65.547840  53.168996   \n",
       "7559  44.051240  79.564237  92.037805  76.486525  65.631352  53.416516   \n",
       "7560  44.023926  79.262640  92.264417  76.606482  65.750480  53.628873   \n",
       "\n",
       "             6          7          8          9    ...        490        491  \\\n",
       "0       1.000000   1.000000   1.000000   1.000000  ...   1.000000   1.000000   \n",
       "1       0.998815   1.001452   1.000304   0.998643  ...   1.001275   0.992010   \n",
       "2       1.007111   1.000317   1.005295   0.998942  ...   1.003339   0.995830   \n",
       "3       1.004302   1.003486   1.006976   1.005699  ...   1.004505   0.996508   \n",
       "4       1.007096   1.006491   1.006824   1.001623  ...   1.005063   1.000311   \n",
       "...          ...        ...        ...        ...  ...        ...        ...   \n",
       "7556  119.702251  44.199550  49.119715  82.992595  ...  52.934855  42.698685   \n",
       "7557  119.920469  44.253903  49.186419  82.852105  ...  53.097049  42.722497   \n",
       "7558  119.428758  44.376147  49.029946  83.019523  ...  52.797723  42.554917   \n",
       "7559  119.535194  44.270616  48.970541  83.157621  ...  52.936398  42.506220   \n",
       "7560  119.437984  44.247485  48.811053  83.534631  ...  53.126118  42.512950   \n",
       "\n",
       "            492        493        494         495         496        497  \\\n",
       "0      1.000000   1.000000   1.000000    1.000000    1.000000   1.000000   \n",
       "1      1.002410   0.999468   1.006253    0.998824    0.999357   1.002090   \n",
       "2      1.002677   1.000218   1.003564    0.999883    1.003121   1.005911   \n",
       "3      1.005891   1.004992   1.005391    0.996373    1.005205   1.008052   \n",
       "4      1.008312   1.004467   1.006924    0.996905    1.003530   1.010933   \n",
       "...         ...        ...        ...         ...         ...        ...   \n",
       "7556  58.890199  62.667766  88.937453  109.212879  119.111076  50.951880   \n",
       "7557  59.151778  62.453339  88.817202  109.148387  119.508942  51.084550   \n",
       "7558  58.781376  62.487395  88.148682  109.161220  118.813354  51.019427   \n",
       "7559  58.845419  62.168205  88.154986  108.910367  118.559391  51.268294   \n",
       "7560  58.661127  62.450982  88.544596  109.308939  118.620891  50.853920   \n",
       "\n",
       "            498        499  \n",
       "0      1.000000   1.000000  \n",
       "1      1.006529   0.998339  \n",
       "2      1.005896   0.990922  \n",
       "3      1.015544   0.992101  \n",
       "4      1.017692   0.991520  \n",
       "...         ...        ...  \n",
       "7556  47.144899  92.401782  \n",
       "7557  46.862553  92.184020  \n",
       "7558  46.562066  92.739457  \n",
       "7559  46.586635  93.023284  \n",
       "7560  46.771426  93.537216  \n",
       "\n",
       "[7561 rows x 500 columns]"
      ]
     },
     "execution_count": 33,
     "metadata": {},
     "output_type": "execute_result"
    }
   ],
   "source": [
    "# Run the Monte Carlo simulation to forecast 30 years cumulative returns\n",
    "MCS_30.calc_cumulative_return()\n"
   ]
  },
  {
   "cell_type": "code",
   "execution_count": 34,
   "metadata": {},
   "outputs": [
    {
     "data": {
      "image/png": "[encoded data removed]",
      "text/plain": [
       "<Figure size 432x288 with 1 Axes>"
      ]
     },
     "metadata": {
      "needs_background": "light"
     },
     "output_type": "display_data"
    }
   ],
   "source": [
    "# Visualize the 30-year Monte Carlo simulation by creating an\n",
    "# overlay line plot\n",
    "MCS_30.plot_simulation();\n"
   ]
  },
  {
   "cell_type": "markdown",
   "metadata": {},
   "source": [
    "#### Step 3: Plot the probability distribution of the Monte Carlo simulation."
   ]
  },
  {
   "cell_type": "code",
   "execution_count": 35,
   "metadata": {},
   "outputs": [
    {
     "data": {
      "image/png": "[encoded data removed]",
      "text/plain": [
       "<Figure size 432x288 with 1 Axes>"
      ]
     },
     "metadata": {
      "needs_background": "light"
     },
     "output_type": "display_data"
    }
   ],
   "source": [
    "# Visualize the probability distribution of the 30-year Monte Carlo simulation \n",
    "# by plotting a histogram\n",
    "MCS_30.plot_distribution();\n"
   ]
  },
  {
   "cell_type": "markdown",
   "metadata": {},
   "source": [
    "#### Step 4: Generate the summary statistics for the Monte Carlo simulation."
   ]
  },
  {
   "cell_type": "code",
   "execution_count": 36,
   "metadata": {},
   "outputs": [
    {
     "name": "stdout",
     "output_type": "stream",
     "text": [
      "count           500.000000\n",
      "mean             65.700122\n",
      "std              20.294773\n",
      "min              24.322357\n",
      "25%              51.103026\n",
      "50%              63.439350\n",
      "75%              76.619336\n",
      "max             139.525965\n",
      "95% CI Lower     34.066252\n",
      "95% CI Upper    116.007596\n",
      "Name: 7560, dtype: float64\n"
     ]
    }
   ],
   "source": [
    "# Generate summary statistics from the 30-year Monte Carlo simulation results\n",
    "# Save the results as a variable\n",
    "MC_summary_statistics = MCS_30.summarize_cumulative_return()\n",
    "\n",
    "\n",
    "# Review the 30-year Monte Carlo summary statistics\n",
    "print(MC_summary_statistics)"
   ]
  },
  {
   "cell_type": "markdown",
   "metadata": {},
   "source": [
    "### Analyze the Retirement Portfolio Forecasts\n",
    "\n",
    "Using the current value of only the stock and bond portion of the member's portfolio and the summary statistics that you generated from the Monte Carlo simulation, answer the following question in your Jupyter notebook:\n",
    "\n",
    "-  What are the lower and upper bounds for the expected value of the portfolio with a 95% confidence interval?\n"
   ]
  },
  {
   "cell_type": "code",
   "execution_count": 37,
   "metadata": {},
   "outputs": [
    {
     "name": "stdout",
     "output_type": "stream",
     "text": [
      "Current Stock & Bond Portfolio value: $75,061.60\n"
     ]
    }
   ],
   "source": [
    "# Print the current balance of the stock and bond portion of the members portfolio\n",
    "print(f\"Current Stock & Bond Portfolio value: ${total_stocks_bonds:,.2f}\")\n"
   ]
  },
  {
   "cell_type": "code",
   "execution_count": 38,
   "metadata": {},
   "outputs": [
    {
     "name": "stdout",
     "output_type": "stream",
     "text": [
      "There is a 95% chance that an initial investment of $75,061.60 in the stocks and bonds portfolio, will be worth between $ 2557067.40 and $ 8707715.77 over the period of thirty years.\n"
     ]
    }
   ],
   "source": [
    "# Use the lower and upper `95%` confidence intervals to calculate the range of the possible outcomes for the current stock/bond portfolio\n",
    "ci_lower_thirty_cumulative_return = MC_summary_statistics[8] * total_stocks_bonds\n",
    "ci_upper_thirty_cumulative_return = MC_summary_statistics[9] * total_stocks_bonds\n",
    "\n",
    "# Print the result of your calculations\n",
    "print(f\"There is a 95% chance that an initial investment of ${total_stocks_bonds:,.2f} in the stocks and bonds portfolio,\"\n",
    "      f\" will be worth between ${ci_lower_thirty_cumulative_return: .2f} and ${ci_upper_thirty_cumulative_return: .2f} over the period of thirty years.\")\n"
   ]
  },
  {
   "cell_type": "markdown",
   "metadata": {},
   "source": [
    "### Forecast Cumulative Returns in 10 Years\n",
    "\n",
    "The CTO of the credit union is impressed with your work on these planning tools but wonders if 30 years is a long time to wait until retirement. So, your next task is to adjust the retirement portfolio and run a new Monte Carlo simulation to find out if the changes will allow members to retire earlier.\n",
    "\n",
    "For this new Monte Carlo simulation, do the following: \n",
    "\n",
    "- Forecast the cumulative returns for 10 years from now. Because of the shortened investment horizon (30 years to 10 years), the portfolio needs to invest more heavily in the riskier asset&mdash;that is, stock&mdash;to help accumulate wealth for retirement. \n",
    "\n",
    "- Adjust the weights of the retirement portfolio so that the composition for the Monte Carlo simulation consists of 20% bonds and 80% stocks. \n",
    "\n",
    "- Run the simulation over 500 samples, and use the same data that the API call to Alpaca generated.\n",
    "\n",
    "- Based on the new Monte Carlo simulation, answer the following questions in your Jupyter notebook:\n",
    "\n",
    "    - Using the current value of only the stock and bond portion of the member's portfolio and the summary statistics that you generated from the new Monte Carlo simulation, what are the lower and upper bounds for the expected value of the portfolio (with the new weights) with a 95% confidence interval?\n",
    "\n",
    "    - Will weighting the portfolio more heavily toward stocks allow the credit union members to retire after only 10 years?\n"
   ]
  },
  {
   "cell_type": "code",
   "execution_count": 39,
   "metadata": {},
   "outputs": [
    {
     "data": {
      "text/html": [
       "<div>\n",
       "<style scoped>\n",
       "    .dataframe tbody tr th:only-of-type {\n",
       "        vertical-align: middle;\n",
       "    }\n",
       "\n",
       "    .dataframe tbody tr th {\n",
       "        vertical-align: top;\n",
       "    }\n",
       "\n",
       "    .dataframe thead tr th {\n",
       "        text-align: left;\n",
       "    }\n",
       "</style>\n",
       "<table border=\"1\" class=\"dataframe\">\n",
       "  <thead>\n",
       "    <tr>\n",
       "      <th></th>\n",
       "      <th colspan=\"8\" halign=\"left\">SPY</th>\n",
       "      <th colspan=\"8\" halign=\"left\">AGG</th>\n",
       "    </tr>\n",
       "    <tr>\n",
       "      <th></th>\n",
       "      <th>open</th>\n",
       "      <th>high</th>\n",
       "      <th>low</th>\n",
       "      <th>close</th>\n",
       "      <th>volume</th>\n",
       "      <th>trade_count</th>\n",
       "      <th>vwap</th>\n",
       "      <th>daily_return</th>\n",
       "      <th>open</th>\n",
       "      <th>high</th>\n",
       "      <th>low</th>\n",
       "      <th>close</th>\n",
       "      <th>volume</th>\n",
       "      <th>trade_count</th>\n",
       "      <th>vwap</th>\n",
       "      <th>daily_return</th>\n",
       "    </tr>\n",
       "  </thead>\n",
       "  <tbody>\n",
       "    <tr>\n",
       "      <th>2018-12-31</th>\n",
       "      <td>249.50</td>\n",
       "      <td>250.19</td>\n",
       "      <td>247.47</td>\n",
       "      <td>249.92</td>\n",
       "      <td>144520520.0</td>\n",
       "      <td>591029.0</td>\n",
       "      <td>249.142101</td>\n",
       "      <td>NaN</td>\n",
       "      <td>106.12</td>\n",
       "      <td>106.510</td>\n",
       "      <td>106.1100</td>\n",
       "      <td>106.49</td>\n",
       "      <td>9672039</td>\n",
       "      <td>27922</td>\n",
       "      <td>106.385025</td>\n",
       "      <td>NaN</td>\n",
       "    </tr>\n",
       "    <tr>\n",
       "      <th>2019-01-02</th>\n",
       "      <td>246.06</td>\n",
       "      <td>251.21</td>\n",
       "      <td>245.95</td>\n",
       "      <td>250.18</td>\n",
       "      <td>131471311.0</td>\n",
       "      <td>603608.0</td>\n",
       "      <td>249.117597</td>\n",
       "      <td>0.001040</td>\n",
       "      <td>106.55</td>\n",
       "      <td>106.610</td>\n",
       "      <td>106.4701</td>\n",
       "      <td>106.57</td>\n",
       "      <td>11201567</td>\n",
       "      <td>27948</td>\n",
       "      <td>106.542414</td>\n",
       "      <td>0.000751</td>\n",
       "    </tr>\n",
       "    <tr>\n",
       "      <th>2019-01-03</th>\n",
       "      <td>248.30</td>\n",
       "      <td>248.57</td>\n",
       "      <td>243.67</td>\n",
       "      <td>244.21</td>\n",
       "      <td>146803492.0</td>\n",
       "      <td>698037.0</td>\n",
       "      <td>245.630362</td>\n",
       "      <td>-0.023863</td>\n",
       "      <td>106.57</td>\n",
       "      <td>107.075</td>\n",
       "      <td>106.5700</td>\n",
       "      <td>107.01</td>\n",
       "      <td>6497397</td>\n",
       "      <td>20215</td>\n",
       "      <td>106.933776</td>\n",
       "      <td>0.004129</td>\n",
       "    </tr>\n",
       "    <tr>\n",
       "      <th>2019-01-04</th>\n",
       "      <td>247.59</td>\n",
       "      <td>253.11</td>\n",
       "      <td>247.17</td>\n",
       "      <td>252.39</td>\n",
       "      <td>142920211.0</td>\n",
       "      <td>708777.0</td>\n",
       "      <td>250.455694</td>\n",
       "      <td>0.033496</td>\n",
       "      <td>106.66</td>\n",
       "      <td>106.720</td>\n",
       "      <td>106.5500</td>\n",
       "      <td>106.69</td>\n",
       "      <td>8148986</td>\n",
       "      <td>19547</td>\n",
       "      <td>106.639485</td>\n",
       "      <td>-0.002990</td>\n",
       "    </tr>\n",
       "    <tr>\n",
       "      <th>2019-01-07</th>\n",
       "      <td>252.76</td>\n",
       "      <td>255.95</td>\n",
       "      <td>251.69</td>\n",
       "      <td>254.38</td>\n",
       "      <td>103705813.0</td>\n",
       "      <td>449998.0</td>\n",
       "      <td>254.069565</td>\n",
       "      <td>0.007885</td>\n",
       "      <td>106.72</td>\n",
       "      <td>106.790</td>\n",
       "      <td>106.4600</td>\n",
       "      <td>106.51</td>\n",
       "      <td>7433691</td>\n",
       "      <td>23935</td>\n",
       "      <td>106.588915</td>\n",
       "      <td>-0.001687</td>\n",
       "    </tr>\n",
       "  </tbody>\n",
       "</table>\n",
       "</div>"
      ],
      "text/plain": [
       "               SPY                                                   \\\n",
       "              open    high     low   close       volume trade_count   \n",
       "2018-12-31  249.50  250.19  247.47  249.92  144520520.0    591029.0   \n",
       "2019-01-02  246.06  251.21  245.95  250.18  131471311.0    603608.0   \n",
       "2019-01-03  248.30  248.57  243.67  244.21  146803492.0    698037.0   \n",
       "2019-01-04  247.59  253.11  247.17  252.39  142920211.0    708777.0   \n",
       "2019-01-07  252.76  255.95  251.69  254.38  103705813.0    449998.0   \n",
       "\n",
       "                                        AGG                             \\\n",
       "                  vwap daily_return    open     high       low   close   \n",
       "2018-12-31  249.142101          NaN  106.12  106.510  106.1100  106.49   \n",
       "2019-01-02  249.117597     0.001040  106.55  106.610  106.4701  106.57   \n",
       "2019-01-03  245.630362    -0.023863  106.57  107.075  106.5700  107.01   \n",
       "2019-01-04  250.455694     0.033496  106.66  106.720  106.5500  106.69   \n",
       "2019-01-07  254.069565     0.007885  106.72  106.790  106.4600  106.51   \n",
       "\n",
       "                                                           \n",
       "              volume trade_count        vwap daily_return  \n",
       "2018-12-31   9672039       27922  106.385025          NaN  \n",
       "2019-01-02  11201567       27948  106.542414     0.000751  \n",
       "2019-01-03   6497397       20215  106.933776     0.004129  \n",
       "2019-01-04   8148986       19547  106.639485    -0.002990  \n",
       "2019-01-07   7433691       23935  106.588915    -0.001687  "
      ]
     },
     "execution_count": 39,
     "metadata": {},
     "output_type": "execute_result"
    }
   ],
   "source": [
    "# Configure a Monte Carlo simulation to forecast 10 years cumulative returns\n",
    "# The weights should be split 20% to AGG and 80% to SPY.\n",
    "# Run 500 samples.\n",
    "MCS_10 = MCSimulation(\n",
    "    portfolio_data= df_three_years,\n",
    "    weights= [0.2, 0.8],\n",
    "    num_simulation= 500,\n",
    "    num_trading_days= 252 * 10\n",
    ")\n",
    "\n",
    "# Review the simulation input data\n",
    "MCS_10.portfolio_data.head()\n"
   ]
  },
  {
   "cell_type": "code",
   "execution_count": 40,
   "metadata": {},
   "outputs": [
    {
     "name": "stdout",
     "output_type": "stream",
     "text": [
      "Running Monte Carlo simulation number 0.\n",
      "Running Monte Carlo simulation number 10.\n",
      "Running Monte Carlo simulation number 20.\n",
      "Running Monte Carlo simulation number 30.\n",
      "Running Monte Carlo simulation number 40.\n",
      "Running Monte Carlo simulation number 50.\n",
      "Running Monte Carlo simulation number 60.\n",
      "Running Monte Carlo simulation number 70.\n",
      "Running Monte Carlo simulation number 80.\n",
      "Running Monte Carlo simulation number 90.\n",
      "Running Monte Carlo simulation number 100.\n"
     ]
    },
    {
     "name": "stderr",
     "output_type": "stream",
     "text": [
      "/Users/ragininegi/Desktop/Challenges/Challenge-5/Starter_Code/MCForecastTools.py:117: PerformanceWarning: DataFrame is highly fragmented.  This is usually the result of calling `frame.insert` many times, which has poor performance.  Consider joining all columns at once using pd.concat(axis=1) instead.  To get a de-fragmented frame, use `newframe = frame.copy()`\n",
      "  portfolio_cumulative_returns[n] = (1 + sim_df.fillna(0)).cumprod()\n"
     ]
    },
    {
     "name": "stdout",
     "output_type": "stream",
     "text": [
      "Running Monte Carlo simulation number 110.\n",
      "Running Monte Carlo simulation number 120.\n",
      "Running Monte Carlo simulation number 130.\n",
      "Running Monte Carlo simulation number 140.\n",
      "Running Monte Carlo simulation number 150.\n",
      "Running Monte Carlo simulation number 160.\n",
      "Running Monte Carlo simulation number 170.\n",
      "Running Monte Carlo simulation number 180.\n",
      "Running Monte Carlo simulation number 190.\n",
      "Running Monte Carlo simulation number 200.\n",
      "Running Monte Carlo simulation number 210.\n",
      "Running Monte Carlo simulation number 220.\n",
      "Running Monte Carlo simulation number 230.\n",
      "Running Monte Carlo simulation number 240.\n",
      "Running Monte Carlo simulation number 250.\n",
      "Running Monte Carlo simulation number 260.\n",
      "Running Monte Carlo simulation number 270.\n",
      "Running Monte Carlo simulation number 280.\n",
      "Running Monte Carlo simulation number 290.\n",
      "Running Monte Carlo simulation number 300.\n",
      "Running Monte Carlo simulation number 310.\n",
      "Running Monte Carlo simulation number 320.\n",
      "Running Monte Carlo simulation number 330.\n",
      "Running Monte Carlo simulation number 340.\n",
      "Running Monte Carlo simulation number 350.\n",
      "Running Monte Carlo simulation number 360.\n",
      "Running Monte Carlo simulation number 370.\n",
      "Running Monte Carlo simulation number 380.\n",
      "Running Monte Carlo simulation number 390.\n",
      "Running Monte Carlo simulation number 400.\n",
      "Running Monte Carlo simulation number 410.\n",
      "Running Monte Carlo simulation number 420.\n",
      "Running Monte Carlo simulation number 430.\n",
      "Running Monte Carlo simulation number 440.\n",
      "Running Monte Carlo simulation number 450.\n",
      "Running Monte Carlo simulation number 460.\n",
      "Running Monte Carlo simulation number 470.\n",
      "Running Monte Carlo simulation number 480.\n",
      "Running Monte Carlo simulation number 490.\n"
     ]
    },
    {
     "data": {
      "text/html": [
       "<div>\n",
       "<style scoped>\n",
       "    .dataframe tbody tr th:only-of-type {\n",
       "        vertical-align: middle;\n",
       "    }\n",
       "\n",
       "    .dataframe tbody tr th {\n",
       "        vertical-align: top;\n",
       "    }\n",
       "\n",
       "    .dataframe thead th {\n",
       "        text-align: right;\n",
       "    }\n",
       "</style>\n",
       "<table border=\"1\" class=\"dataframe\">\n",
       "  <thead>\n",
       "    <tr style=\"text-align: right;\">\n",
       "      <th></th>\n",
       "      <th>0</th>\n",
       "      <th>1</th>\n",
       "      <th>2</th>\n",
       "      <th>3</th>\n",
       "      <th>4</th>\n",
       "      <th>5</th>\n",
       "      <th>6</th>\n",
       "      <th>7</th>\n",
       "      <th>8</th>\n",
       "      <th>9</th>\n",
       "      <th>...</th>\n",
       "      <th>490</th>\n",
       "      <th>491</th>\n",
       "      <th>492</th>\n",
       "      <th>493</th>\n",
       "      <th>494</th>\n",
       "      <th>495</th>\n",
       "      <th>496</th>\n",
       "      <th>497</th>\n",
       "      <th>498</th>\n",
       "      <th>499</th>\n",
       "    </tr>\n",
       "  </thead>\n",
       "  <tbody>\n",
       "    <tr>\n",
       "      <th>0</th>\n",
       "      <td>1.000000</td>\n",
       "      <td>1.000000</td>\n",
       "      <td>1.000000</td>\n",
       "      <td>1.000000</td>\n",
       "      <td>1.000000</td>\n",
       "      <td>1.000000</td>\n",
       "      <td>1.000000</td>\n",
       "      <td>1.000000</td>\n",
       "      <td>1.000000</td>\n",
       "      <td>1.000000</td>\n",
       "      <td>...</td>\n",
       "      <td>1.000000</td>\n",
       "      <td>1.000000</td>\n",
       "      <td>1.000000</td>\n",
       "      <td>1.000000</td>\n",
       "      <td>1.000000</td>\n",
       "      <td>1.000000</td>\n",
       "      <td>1.000000</td>\n",
       "      <td>1.000000</td>\n",
       "      <td>1.000000</td>\n",
       "      <td>1.000000</td>\n",
       "    </tr>\n",
       "    <tr>\n",
       "      <th>1</th>\n",
       "      <td>1.003268</td>\n",
       "      <td>1.004471</td>\n",
       "      <td>1.001311</td>\n",
       "      <td>0.999312</td>\n",
       "      <td>1.001425</td>\n",
       "      <td>1.003782</td>\n",
       "      <td>0.999751</td>\n",
       "      <td>1.000989</td>\n",
       "      <td>1.001119</td>\n",
       "      <td>0.999854</td>\n",
       "      <td>...</td>\n",
       "      <td>1.007163</td>\n",
       "      <td>0.994308</td>\n",
       "      <td>1.002272</td>\n",
       "      <td>1.001943</td>\n",
       "      <td>1.002330</td>\n",
       "      <td>1.002668</td>\n",
       "      <td>0.998351</td>\n",
       "      <td>1.002686</td>\n",
       "      <td>1.001194</td>\n",
       "      <td>1.000882</td>\n",
       "    </tr>\n",
       "    <tr>\n",
       "      <th>2</th>\n",
       "      <td>0.998845</td>\n",
       "      <td>1.005254</td>\n",
       "      <td>1.004533</td>\n",
       "      <td>0.998797</td>\n",
       "      <td>1.001797</td>\n",
       "      <td>1.002854</td>\n",
       "      <td>0.997489</td>\n",
       "      <td>1.004994</td>\n",
       "      <td>1.001822</td>\n",
       "      <td>1.004921</td>\n",
       "      <td>...</td>\n",
       "      <td>1.002882</td>\n",
       "      <td>0.995648</td>\n",
       "      <td>1.000345</td>\n",
       "      <td>1.003077</td>\n",
       "      <td>1.001282</td>\n",
       "      <td>1.002083</td>\n",
       "      <td>0.997187</td>\n",
       "      <td>1.007430</td>\n",
       "      <td>1.000226</td>\n",
       "      <td>1.004210</td>\n",
       "    </tr>\n",
       "    <tr>\n",
       "      <th>3</th>\n",
       "      <td>0.999294</td>\n",
       "      <td>1.004888</td>\n",
       "      <td>1.002713</td>\n",
       "      <td>1.002717</td>\n",
       "      <td>1.006080</td>\n",
       "      <td>1.002351</td>\n",
       "      <td>0.999595</td>\n",
       "      <td>1.005025</td>\n",
       "      <td>1.003408</td>\n",
       "      <td>1.000658</td>\n",
       "      <td>...</td>\n",
       "      <td>1.002603</td>\n",
       "      <td>0.994585</td>\n",
       "      <td>0.997630</td>\n",
       "      <td>1.004739</td>\n",
       "      <td>1.003203</td>\n",
       "      <td>1.001214</td>\n",
       "      <td>0.994955</td>\n",
       "      <td>1.008331</td>\n",
       "      <td>1.000704</td>\n",
       "      <td>1.003952</td>\n",
       "    </tr>\n",
       "    <tr>\n",
       "      <th>4</th>\n",
       "      <td>1.002631</td>\n",
       "      <td>1.006809</td>\n",
       "      <td>1.003154</td>\n",
       "      <td>1.004841</td>\n",
       "      <td>1.002689</td>\n",
       "      <td>1.002546</td>\n",
       "      <td>1.001614</td>\n",
       "      <td>1.001154</td>\n",
       "      <td>1.006033</td>\n",
       "      <td>1.005445</td>\n",
       "      <td>...</td>\n",
       "      <td>0.999592</td>\n",
       "      <td>0.997462</td>\n",
       "      <td>0.996952</td>\n",
       "      <td>1.007707</td>\n",
       "      <td>1.002766</td>\n",
       "      <td>1.000066</td>\n",
       "      <td>0.993574</td>\n",
       "      <td>1.012650</td>\n",
       "      <td>1.004332</td>\n",
       "      <td>1.000770</td>\n",
       "    </tr>\n",
       "    <tr>\n",
       "      <th>...</th>\n",
       "      <td>...</td>\n",
       "      <td>...</td>\n",
       "      <td>...</td>\n",
       "      <td>...</td>\n",
       "      <td>...</td>\n",
       "      <td>...</td>\n",
       "      <td>...</td>\n",
       "      <td>...</td>\n",
       "      <td>...</td>\n",
       "      <td>...</td>\n",
       "      <td>...</td>\n",
       "      <td>...</td>\n",
       "      <td>...</td>\n",
       "      <td>...</td>\n",
       "      <td>...</td>\n",
       "      <td>...</td>\n",
       "      <td>...</td>\n",
       "      <td>...</td>\n",
       "      <td>...</td>\n",
       "      <td>...</td>\n",
       "      <td>...</td>\n",
       "    </tr>\n",
       "    <tr>\n",
       "      <th>2516</th>\n",
       "      <td>2.955949</td>\n",
       "      <td>2.679774</td>\n",
       "      <td>2.683548</td>\n",
       "      <td>3.000299</td>\n",
       "      <td>2.414525</td>\n",
       "      <td>2.631405</td>\n",
       "      <td>2.184292</td>\n",
       "      <td>2.943818</td>\n",
       "      <td>3.405015</td>\n",
       "      <td>2.007578</td>\n",
       "      <td>...</td>\n",
       "      <td>2.318699</td>\n",
       "      <td>2.683723</td>\n",
       "      <td>2.770425</td>\n",
       "      <td>2.761805</td>\n",
       "      <td>3.349981</td>\n",
       "      <td>2.480547</td>\n",
       "      <td>2.726872</td>\n",
       "      <td>2.838204</td>\n",
       "      <td>2.572206</td>\n",
       "      <td>2.456247</td>\n",
       "    </tr>\n",
       "    <tr>\n",
       "      <th>2517</th>\n",
       "      <td>2.957167</td>\n",
       "      <td>2.671719</td>\n",
       "      <td>2.684221</td>\n",
       "      <td>2.995299</td>\n",
       "      <td>2.414660</td>\n",
       "      <td>2.629855</td>\n",
       "      <td>2.178877</td>\n",
       "      <td>2.936172</td>\n",
       "      <td>3.408015</td>\n",
       "      <td>2.009072</td>\n",
       "      <td>...</td>\n",
       "      <td>2.325821</td>\n",
       "      <td>2.681361</td>\n",
       "      <td>2.764638</td>\n",
       "      <td>2.760189</td>\n",
       "      <td>3.331847</td>\n",
       "      <td>2.494624</td>\n",
       "      <td>2.729733</td>\n",
       "      <td>2.840384</td>\n",
       "      <td>2.576539</td>\n",
       "      <td>2.450653</td>\n",
       "    </tr>\n",
       "    <tr>\n",
       "      <th>2518</th>\n",
       "      <td>2.960605</td>\n",
       "      <td>2.681225</td>\n",
       "      <td>2.686584</td>\n",
       "      <td>2.995146</td>\n",
       "      <td>2.414973</td>\n",
       "      <td>2.632253</td>\n",
       "      <td>2.185691</td>\n",
       "      <td>2.939596</td>\n",
       "      <td>3.393734</td>\n",
       "      <td>2.013064</td>\n",
       "      <td>...</td>\n",
       "      <td>2.309833</td>\n",
       "      <td>2.686051</td>\n",
       "      <td>2.752628</td>\n",
       "      <td>2.766750</td>\n",
       "      <td>3.347124</td>\n",
       "      <td>2.496885</td>\n",
       "      <td>2.730467</td>\n",
       "      <td>2.854583</td>\n",
       "      <td>2.582469</td>\n",
       "      <td>2.446599</td>\n",
       "    </tr>\n",
       "    <tr>\n",
       "      <th>2519</th>\n",
       "      <td>2.951596</td>\n",
       "      <td>2.686188</td>\n",
       "      <td>2.681604</td>\n",
       "      <td>2.981722</td>\n",
       "      <td>2.416330</td>\n",
       "      <td>2.635262</td>\n",
       "      <td>2.188480</td>\n",
       "      <td>2.939093</td>\n",
       "      <td>3.393588</td>\n",
       "      <td>2.014403</td>\n",
       "      <td>...</td>\n",
       "      <td>2.315176</td>\n",
       "      <td>2.681591</td>\n",
       "      <td>2.744664</td>\n",
       "      <td>2.770169</td>\n",
       "      <td>3.325128</td>\n",
       "      <td>2.505083</td>\n",
       "      <td>2.740979</td>\n",
       "      <td>2.863986</td>\n",
       "      <td>2.582584</td>\n",
       "      <td>2.445220</td>\n",
       "    </tr>\n",
       "    <tr>\n",
       "      <th>2520</th>\n",
       "      <td>2.945992</td>\n",
       "      <td>2.689331</td>\n",
       "      <td>2.687027</td>\n",
       "      <td>2.985027</td>\n",
       "      <td>2.410515</td>\n",
       "      <td>2.641977</td>\n",
       "      <td>2.189148</td>\n",
       "      <td>2.941209</td>\n",
       "      <td>3.397832</td>\n",
       "      <td>2.021441</td>\n",
       "      <td>...</td>\n",
       "      <td>2.326575</td>\n",
       "      <td>2.687744</td>\n",
       "      <td>2.750451</td>\n",
       "      <td>2.767802</td>\n",
       "      <td>3.327525</td>\n",
       "      <td>2.500463</td>\n",
       "      <td>2.742439</td>\n",
       "      <td>2.871795</td>\n",
       "      <td>2.579768</td>\n",
       "      <td>2.452708</td>\n",
       "    </tr>\n",
       "  </tbody>\n",
       "</table>\n",
       "<p>2521 rows × 500 columns</p>\n",
       "</div>"
      ],
      "text/plain": [
       "           0         1         2         3         4         5         6    \\\n",
       "0     1.000000  1.000000  1.000000  1.000000  1.000000  1.000000  1.000000   \n",
       "1     1.003268  1.004471  1.001311  0.999312  1.001425  1.003782  0.999751   \n",
       "2     0.998845  1.005254  1.004533  0.998797  1.001797  1.002854  0.997489   \n",
       "3     0.999294  1.004888  1.002713  1.002717  1.006080  1.002351  0.999595   \n",
       "4     1.002631  1.006809  1.003154  1.004841  1.002689  1.002546  1.001614   \n",
       "...        ...       ...       ...       ...       ...       ...       ...   \n",
       "2516  2.955949  2.679774  2.683548  3.000299  2.414525  2.631405  2.184292   \n",
       "2517  2.957167  2.671719  2.684221  2.995299  2.414660  2.629855  2.178877   \n",
       "2518  2.960605  2.681225  2.686584  2.995146  2.414973  2.632253  2.185691   \n",
       "2519  2.951596  2.686188  2.681604  2.981722  2.416330  2.635262  2.188480   \n",
       "2520  2.945992  2.689331  2.687027  2.985027  2.410515  2.641977  2.189148   \n",
       "\n",
       "           7         8         9    ...       490       491       492  \\\n",
       "0     1.000000  1.000000  1.000000  ...  1.000000  1.000000  1.000000   \n",
       "1     1.000989  1.001119  0.999854  ...  1.007163  0.994308  1.002272   \n",
       "2     1.004994  1.001822  1.004921  ...  1.002882  0.995648  1.000345   \n",
       "3     1.005025  1.003408  1.000658  ...  1.002603  0.994585  0.997630   \n",
       "4     1.001154  1.006033  1.005445  ...  0.999592  0.997462  0.996952   \n",
       "...        ...       ...       ...  ...       ...       ...       ...   \n",
       "2516  2.943818  3.405015  2.007578  ...  2.318699  2.683723  2.770425   \n",
       "2517  2.936172  3.408015  2.009072  ...  2.325821  2.681361  2.764638   \n",
       "2518  2.939596  3.393734  2.013064  ...  2.309833  2.686051  2.752628   \n",
       "2519  2.939093  3.393588  2.014403  ...  2.315176  2.681591  2.744664   \n",
       "2520  2.941209  3.397832  2.021441  ...  2.326575  2.687744  2.750451   \n",
       "\n",
       "           493       494       495       496       497       498       499  \n",
       "0     1.000000  1.000000  1.000000  1.000000  1.000000  1.000000  1.000000  \n",
       "1     1.001943  1.002330  1.002668  0.998351  1.002686  1.001194  1.000882  \n",
       "2     1.003077  1.001282  1.002083  0.997187  1.007430  1.000226  1.004210  \n",
       "3     1.004739  1.003203  1.001214  0.994955  1.008331  1.000704  1.003952  \n",
       "4     1.007707  1.002766  1.000066  0.993574  1.012650  1.004332  1.000770  \n",
       "...        ...       ...       ...       ...       ...       ...       ...  \n",
       "2516  2.761805  3.349981  2.480547  2.726872  2.838204  2.572206  2.456247  \n",
       "2517  2.760189  3.331847  2.494624  2.729733  2.840384  2.576539  2.450653  \n",
       "2518  2.766750  3.347124  2.496885  2.730467  2.854583  2.582469  2.446599  \n",
       "2519  2.770169  3.325128  2.505083  2.740979  2.863986  2.582584  2.445220  \n",
       "2520  2.767802  3.327525  2.500463  2.742439  2.871795  2.579768  2.452708  \n",
       "\n",
       "[2521 rows x 500 columns]"
      ]
     },
     "execution_count": 40,
     "metadata": {},
     "output_type": "execute_result"
    }
   ],
   "source": [
    "# Run the Monte Carlo simulation to forecast 10 years cumulative returns\n",
    "MCS_10.calc_cumulative_return()\n"
   ]
  },
  {
   "cell_type": "code",
   "execution_count": 41,
   "metadata": {},
   "outputs": [
    {
     "data": {
      "image/png": "[encoded data removed]",
      "text/plain": [
       "<Figure size 432x288 with 1 Axes>"
      ]
     },
     "metadata": {
      "needs_background": "light"
     },
     "output_type": "display_data"
    }
   ],
   "source": [
    "# Visualize the 10-year Monte Carlo simulation by creating an\n",
    "# overlay line plot\n",
    "MCS_10.plot_simulation();\n"
   ]
  },
  {
   "cell_type": "code",
   "execution_count": 42,
   "metadata": {},
   "outputs": [
    {
     "data": {
      "image/png": "[encoded data removed]",
      "text/plain": [
       "<Figure size 432x288 with 1 Axes>"
      ]
     },
     "metadata": {
      "needs_background": "light"
     },
     "output_type": "display_data"
    }
   ],
   "source": [
    "# Visualize the probability distribution of the 10-year Monte Carlo simulation \n",
    "# by plotting a histogram\n",
    "MCS_30.plot_distribution();\n"
   ]
  },
  {
   "cell_type": "code",
   "execution_count": 43,
   "metadata": {},
   "outputs": [
    {
     "name": "stdout",
     "output_type": "stream",
     "text": [
      "count           500.000000\n",
      "mean              2.706941\n",
      "std               0.302749\n",
      "min               1.800160\n",
      "25%               2.499672\n",
      "50%               2.693782\n",
      "75%               2.910644\n",
      "max               3.769904\n",
      "95% CI Lower      2.167133\n",
      "95% CI Upper      3.360384\n",
      "Name: 2520, dtype: float64\n"
     ]
    }
   ],
   "source": [
    "# Generate summary statistics from the 10-year Monte Carlo simulation results\n",
    "# Save the results as a variable\n",
    "MC_summary_statistics_10 = MCS_10.summarize_cumulative_return()\n",
    "\n",
    "# Review the 10-year Monte Carlo summary statistics\n",
    "print(MC_summary_statistics_10)"
   ]
  },
  {
   "cell_type": "markdown",
   "metadata": {},
   "source": [
    "### Answer the following questions:"
   ]
  },
  {
   "cell_type": "markdown",
   "metadata": {},
   "source": [
    "#### Question: Using the current value of only the stock and bond portion of the member's portfolio and the summary statistics that you generated from the new Monte Carlo simulation, what are the lower and upper bounds for the expected value of the portfolio (with the new weights) with a 95% confidence interval?"
   ]
  },
  {
   "cell_type": "code",
   "execution_count": 44,
   "metadata": {},
   "outputs": [
    {
     "name": "stdout",
     "output_type": "stream",
     "text": [
      "Current Stock & Bond Portfolio value: $75,061.60\n"
     ]
    }
   ],
   "source": [
    "# Print the current balance of the stock and bond portion of the members portfolio\n",
    "print(f\"Current Stock & Bond Portfolio value: ${total_stocks_bonds:,.2f}\")\n"
   ]
  },
  {
   "cell_type": "code",
   "execution_count": 45,
   "metadata": {},
   "outputs": [
    {
     "name": "stdout",
     "output_type": "stream",
     "text": [
      "There is a 95% chance that an initial investment of $75,061.60 in the stocks and bonds portfolio, will be worth between $ 162668.44 and $ 252235.78 over the period of ten years.\n"
     ]
    }
   ],
   "source": [
    "# Use the lower and upper `95%` confidence intervals to calculate the range of the possible outcomes for the current stock/bond portfolio\n",
    "ci_lower_ten_cumulative_return = MC_summary_statistics_10[8] * total_stocks_bonds\n",
    "ci_upper_ten_cumulative_return = MC_summary_statistics_10[9] * total_stocks_bonds\n",
    "\n",
    "# Print the result of your calculations\n",
    "print(f\"There is a 95% chance that an initial investment of ${total_stocks_bonds:,.2f} in the stocks and bonds portfolio,\"\n",
    "      f\" will be worth between ${ci_lower_ten_cumulative_return: .2f} and ${ci_upper_ten_cumulative_return: .2f} over the period of ten years.\")\n"
   ]
  },
  {
   "cell_type": "markdown",
   "metadata": {},
   "source": [
    "#### Question: Will weighting the portfolio more heavily to stocks allow the credit union members to retire after only 10 years?"
   ]
  },
  {
   "cell_type": "raw",
   "metadata": {},
   "source": [
    "**Answer** Based on the the above analysis it can be observed that there is not much margin available in the upper end of 10 years as it is not more than 30 years analysis. it is not recommendable to go for retirement option after 10years rather than opting for 30 years plan.ncreasing the weightage of stock, seems to have not a great beneficial results to have significant impact on the decision. We can only estimate and move towards a more likely situation whcih is retirement after 30years plan."
   ]
  },
  {
   "cell_type": "markdown",
   "metadata": {},
   "source": []
  }
 ],
 "metadata": {
  "kernelspec": {
   "display_name": "Python 3 (ipykernel)",
   "language": "python",
   "name": "python3"
  },
  "language_info": {
   "codemirror_mode": {
    "name": "ipython",
    "version": 3
   },
   "file_extension": ".py",
   "mimetype": "text/x-python",
   "name": "python",
   "nbconvert_exporter": "python",
   "pygments_lexer": "ipython3",
   "version": "3.7.11"
  }
 },
 "nbformat": 4,
 "nbformat_minor": 4
}
